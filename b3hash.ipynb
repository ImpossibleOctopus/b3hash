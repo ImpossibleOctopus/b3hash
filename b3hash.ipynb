{
 "cells": [
  {
   "cell_type": "code",
   "execution_count": 1,
   "metadata": {},
   "outputs": [],
   "source": [
    "import numpy as np\n",
    "import random \n",
    "## b3hash"
   ]
  },
  {
   "cell_type": "code",
   "execution_count": 22,
   "metadata": {},
   "outputs": [],
   "source": [
    "def okbithash(val,mod=0,mod2=0,mod3=0):\n",
    "    mod = f'|{mod}|{mod2}|{mod3}|'\n",
    "    s = val + mod\n",
    "    h = hash(s)\n",
    "    return(h%2)"
   ]
  },
  {
   "cell_type": "code",
   "execution_count": 3,
   "metadata": {},
   "outputs": [],
   "source": [
    "byte_count = np.array([0, 1, 1, 2, 1, 2, 2, 3, 1, 2, 2, 3, 2, 3, 3, 4, 1, 2, 2, 3, 2, 3, 3, 4, 2, 3, 3, 4, 3, 4, 4, 5, 1, 2, 2, 3, 2, 3, 3, 4, 2, 3, 3, 4, 3, 4, 4, 5, 2, 3, 3, 4, 3, 4, 4, 5, 3, 4, 4, 5, 4, 5, 5, 6, 1, 2, 2, 3, 2, 3, 3, 4, 2, 3, 3, 4, 3, 4, 4, 5, 2, 3, 3, 4, 3, 4, 4, 5, 3, 4, 4, 5, 4, 5, 5, 6, 2, 3, 3, 4, 3, 4, 4, 5, 3, 4, 4, 5, 4, 5, 5, 6, 3, 4, 4, 5, 4, 5, 5, 6, 4, 5, 5, 6, 5, 6, 6, 7, 1, 2, 2, 3, 2, 3, 3, 4, 2, 3, 3, 4, 3, 4, 4, 5, 2, 3, 3, 4, 3, 4, 4, 5, 3, 4, 4, 5, 4, 5, 5, 6, 2, 3, 3, 4, 3, 4, 4, 5, 3, 4, 4, 5, 4, 5, 5, 6, 3, 4, 4, 5, 4, 5, 5, 6, 4, 5, 5, 6, 5, 6, 6, 7, 2, 3, 3, 4, 3, 4, 4, 5, 3, 4, 4, 5, 4, 5, 5, 6, 3, 4, 4, 5, 4, 5, 5, 6, 4, 5, 5, 6, 5, 6, 6, 7, 3, 4, 4, 5, 4, 5, 5, 6, 4, 5, 5, 6, 5, 6, 6, 7, 4, 5, 5, 6, 5, 6, 6, 7, 5, 6, 6, 7, 6, 7, 7, 8],dtype=np.uint8)\n",
    "\n",
    "class gbytes(np.ndarray):\n",
    "    def __new__(cls,b):\n",
    "        buf = np.frombuffer(b,dtype=np.uint8)\n",
    "        qa = np.ndarray.__new__(cls,len(b),dtype=np.uint8)\n",
    "        qa[:] = buf\n",
    "        return(qa)\n",
    "    \n",
    "    def __repr__(self):\n",
    "        s = 'g\\''\n",
    "        for b in self:\n",
    "            s += '\\\\x{:02x}'.format(b)\n",
    "        s += '\\''\n",
    "        return(s)\n",
    "\n",
    "    def bit_count(self):\n",
    "        count = 0\n",
    "        for b in self:\n",
    "            count += byte_count[b]\n",
    "        return(count)\n",
    "\n",
    "    @staticmethod\n",
    "    def similarity(gb1, gb2):\n",
    "        sim_bin = gbytes(np.bitwise_not( np.bitwise_xor( gb1,gb2 ) ))\n",
    "        sim = sim_bin.bit_count()\n",
    "        sim = int(sim)\n",
    "        return(sim)\n",
    "\n",
    "        "
   ]
  },
  {
   "cell_type": "code",
   "execution_count": 63,
   "metadata": {},
   "outputs": [],
   "source": [
    "def b3hash(seq,rounds=256):\n",
    "    ''' a much bettter version '''\n",
    "    out_array = np.ndarray(rounds,dtype=np.bool8)\n",
    "    seq = [\"<START>\"] + list(seq) + [\"<END>\"]\n",
    "    last = True\n",
    "    bigram_count = dict()\n",
    "    for round in range(rounds):\n",
    "        sim_sum = 0\n",
    "        for i in range(1,len(seq)):\n",
    "            bigram = (seq[i-1],seq[i])\n",
    "            bigram_count.setdefault(bigram,0)\n",
    "            count = bigram_count[bigram]\n",
    "            h1 = okbithash(seq[i-1],round,mod2=0,mod3=count)\n",
    "            h2 = okbithash(seq[i],round,mod2=1,mod3=count)\n",
    "            bigram_count[bigram] += 1\n",
    "            x12 = h1 ^ h2\n",
    "            if x12:\n",
    "                sim_sum += 1\n",
    "            else:\n",
    "                sim_sum -= 1\n",
    "        if sim_sum > 0:\n",
    "            out_array[round] = True\n",
    "            last = True\n",
    "        elif sim_sum < 0:\n",
    "            out_array[round] = False\n",
    "            last = False\n",
    "        else:\n",
    "            last = (not last)\n",
    "            out_array[round] = last # deterministic tie-breaker\n",
    "    out_array = np.packbits(out_array)\n",
    "    out_array = gbytes(out_array)\n",
    "    return(out_array)\n"
   ]
  },
  {
   "cell_type": "code",
   "execution_count": 24,
   "metadata": {},
   "outputs": [],
   "source": [
    "cats = b3hash('cat')\n",
    "caats = b3hash('caats')\n",
    "caaaats = b3hash('caaaats')\n",
    "catscats = b3hash('catscats')\n",
    "bcatscats = b3hash('bcatscats')\n",
    "caattaats = b3hash('caattaats')\n"
   ]
  },
  {
   "cell_type": "code",
   "execution_count": 25,
   "metadata": {},
   "outputs": [],
   "source": [
    "elephant = b3hash('elephant')\n",
    "eleephant = b3hash('eleephant')"
   ]
  },
  {
   "cell_type": "code",
   "execution_count": 43,
   "metadata": {},
   "outputs": [],
   "source": [
    "alice = b3hash('Alice was beginning to get very tired of sitting by her sister on the bank, and of having nothing to do')\n",
    "april = b3hash('April was beginning to get very tired of sitting by her sister on the bank, and of having nothing to do')\n",
    "april2 = b3hash('April was finally tired of sitting by her brother by the tree, and of having nothing to do')\n",
    "ana = b3hash('of sitting by her nothing to do the bank, and of having Ana was beginning sister on to get very tired ')\n",
    "#ana = b3hash('Ana was beginning to get very tired of sitting by her sister on the bank, and of having nothing to do')\n",
    "\n",
    "\n",
    "long_sentence = b3hash('This is an extremely long sentence which should result in similarity for some reason ok bye')\n",
    "longsentence = b3hash('Thisisanextremelylongsentencewhichshouldresultinsimilarityforsomereasonokbyesomemorewordshere')\n",
    "\n",
    "shadowsfollow = b3hash('shadowsfollow')"
   ]
  },
  {
   "cell_type": "code",
   "execution_count": 44,
   "metadata": {},
   "outputs": [],
   "source": [
    "garbage = b3hash('qwertysjdfniabuioopkjhgfdfvbsdljfnjkasdnxcvbkxjcvdfkjnndmmbyasdkjfbkhbsdfkzxcvibekxcbvkasdljfnkjksbdf')\n"
   ]
  },
  {
   "cell_type": "code",
   "execution_count": 61,
   "metadata": {},
   "outputs": [],
   "source": [
    "pow = b3hash('aaaaab')\n",
    "wow = b3hash('aaaaac')"
   ]
  },
  {
   "cell_type": "code",
   "execution_count": 45,
   "metadata": {},
   "outputs": [],
   "source": [
    "garbage2 = b3hash(str([random.randint(87,122) for _ in range(5)]))"
   ]
  },
  {
   "cell_type": "code",
   "execution_count": 62,
   "metadata": {},
   "outputs": [
    {
     "data": {
      "text/plain": [
       "1.0"
      ]
     },
     "execution_count": 62,
     "metadata": {},
     "output_type": "execute_result"
    }
   ],
   "source": [
    "gbytes.similarity(pow,wow) / 256"
   ]
  },
  {
   "cell_type": "code",
   "execution_count": 46,
   "metadata": {},
   "outputs": [
    {
     "data": {
      "text/plain": [
       "0.91796875"
      ]
     },
     "execution_count": 46,
     "metadata": {},
     "output_type": "execute_result"
    }
   ],
   "source": [
    "gbytes.similarity(alice,april) / 256"
   ]
  },
  {
   "cell_type": "code",
   "execution_count": 47,
   "metadata": {},
   "outputs": [
    {
     "data": {
      "text/plain": [
       "0.65234375"
      ]
     },
     "execution_count": 47,
     "metadata": {},
     "output_type": "execute_result"
    }
   ],
   "source": [
    "gbytes.similarity(alice,april2) / 256"
   ]
  },
  {
   "cell_type": "code",
   "execution_count": 48,
   "metadata": {},
   "outputs": [
    {
     "data": {
      "text/plain": [
       "0.83984375"
      ]
     },
     "execution_count": 48,
     "metadata": {},
     "output_type": "execute_result"
    }
   ],
   "source": [
    "gbytes.similarity(alice,ana) / 256"
   ]
  },
  {
   "cell_type": "code",
   "execution_count": 49,
   "metadata": {},
   "outputs": [
    {
     "data": {
      "text/plain": [
       "0.48046875"
      ]
     },
     "execution_count": 49,
     "metadata": {},
     "output_type": "execute_result"
    }
   ],
   "source": [
    "gbytes.similarity(april,garbage2) / 256"
   ]
  },
  {
   "cell_type": "code",
   "execution_count": 50,
   "metadata": {},
   "outputs": [
    {
     "data": {
      "text/plain": [
       "0.53125"
      ]
     },
     "execution_count": 50,
     "metadata": {},
     "output_type": "execute_result"
    }
   ],
   "source": [
    "gbytes.similarity(long_sentence,april) / 256"
   ]
  },
  {
   "cell_type": "code",
   "execution_count": 51,
   "metadata": {},
   "outputs": [
    {
     "data": {
      "text/plain": [
       "0.52734375"
      ]
     },
     "execution_count": 51,
     "metadata": {},
     "output_type": "execute_result"
    }
   ],
   "source": [
    "gbytes.similarity(long_sentence,alice) / 256"
   ]
  },
  {
   "cell_type": "code",
   "execution_count": 52,
   "metadata": {},
   "outputs": [
    {
     "data": {
      "text/plain": [
       "0.5234375"
      ]
     },
     "execution_count": 52,
     "metadata": {},
     "output_type": "execute_result"
    }
   ],
   "source": [
    "gbytes.similarity(garbage,april) / 256"
   ]
  },
  {
   "cell_type": "code",
   "execution_count": 53,
   "metadata": {},
   "outputs": [
    {
     "data": {
      "text/plain": [
       "0.66796875"
      ]
     },
     "execution_count": 53,
     "metadata": {},
     "output_type": "execute_result"
    }
   ],
   "source": [
    "gbytes.similarity(longsentence,long_sentence) / 256"
   ]
  },
  {
   "cell_type": "code",
   "execution_count": 54,
   "metadata": {},
   "outputs": [
    {
     "data": {
      "text/plain": [
       "0.44140625"
      ]
     },
     "execution_count": 54,
     "metadata": {},
     "output_type": "execute_result"
    }
   ],
   "source": [
    "gbytes.similarity(garbage,longsentence) / 256"
   ]
  },
  {
   "cell_type": "code",
   "execution_count": 55,
   "metadata": {},
   "outputs": [
    {
     "data": {
      "text/plain": [
       "0.55078125"
      ]
     },
     "execution_count": 55,
     "metadata": {},
     "output_type": "execute_result"
    }
   ],
   "source": [
    "gbytes.similarity(caattaats,shadowsfollow) / 256"
   ]
  },
  {
   "cell_type": "code",
   "execution_count": 56,
   "metadata": {},
   "outputs": [
    {
     "data": {
      "text/plain": [
       "0.48046875"
      ]
     },
     "execution_count": 56,
     "metadata": {},
     "output_type": "execute_result"
    }
   ],
   "source": [
    "gbytes.similarity(garbage2,april) / 256"
   ]
  },
  {
   "cell_type": "code",
   "execution_count": 57,
   "metadata": {},
   "outputs": [
    {
     "data": {
      "text/plain": [
       "g'\\x7a\\xd9\\x3e\\xcd\\x6c\\x1e\\x31\\x0c\\xe6\\x00\\x71\\x92\\xb4\\x51\\x71\\x0c\\xeb\\x21\\xcf\\xb9\\xb8\\x64\\x00\\x07\\xb1\\x40\\xcf\\x41\\xf0\\xe8\\xf4\\x3b'"
      ]
     },
     "execution_count": 57,
     "metadata": {},
     "output_type": "execute_result"
    }
   ],
   "source": [
    "garbage2"
   ]
  },
  {
   "cell_type": "code",
   "execution_count": null,
   "metadata": {},
   "outputs": [],
   "source": []
  }
 ],
 "metadata": {
  "kernelspec": {
   "display_name": "Python 3",
   "language": "python",
   "name": "python3"
  },
  "language_info": {
   "codemirror_mode": {
    "name": "ipython",
    "version": 3
   },
   "file_extension": ".py",
   "mimetype": "text/x-python",
   "name": "python",
   "nbconvert_exporter": "python",
   "pygments_lexer": "ipython3",
   "version": "3.9.2"
  },
  "orig_nbformat": 4,
  "vscode": {
   "interpreter": {
    "hash": "75826d0e9c1dcf44b53c1d5fae65e2ac865fe2d5c7414d417cbea9d539b26360"
   }
  }
 },
 "nbformat": 4,
 "nbformat_minor": 2
}
