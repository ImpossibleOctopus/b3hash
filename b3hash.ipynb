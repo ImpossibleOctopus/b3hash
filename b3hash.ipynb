{
 "cells": [
  {
   "cell_type": "code",
   "execution_count": 223,
   "metadata": {},
   "outputs": [],
   "source": [
    "import numpy as np\n",
    "import random \n",
    "## b3hash"
   ]
  },
  {
   "cell_type": "code",
   "execution_count": 224,
   "metadata": {},
   "outputs": [],
   "source": [
    "def okbithash(val,mod=0,mod2=0,mod3=0):\n",
    "    mod = f'|{mod}|{mod2}|{mod3}|'\n",
    "    s = val + mod\n",
    "    h = hash(s)\n",
    "    return(h%2)"
   ]
  },
  {
   "cell_type": "code",
   "execution_count": 225,
   "metadata": {},
   "outputs": [],
   "source": [
    "byte_count = np.array([0, 1, 1, 2, 1, 2, 2, 3, 1, 2, 2, 3, 2, 3, 3, 4, 1, 2, 2, 3, 2, 3, 3, 4, 2, 3, 3, 4, 3, 4, 4, 5, 1, 2, 2, 3, 2, 3, 3, 4, 2, 3, 3, 4, 3, 4, 4, 5, 2, 3, 3, 4, 3, 4, 4, 5, 3, 4, 4, 5, 4, 5, 5, 6, 1, 2, 2, 3, 2, 3, 3, 4, 2, 3, 3, 4, 3, 4, 4, 5, 2, 3, 3, 4, 3, 4, 4, 5, 3, 4, 4, 5, 4, 5, 5, 6, 2, 3, 3, 4, 3, 4, 4, 5, 3, 4, 4, 5, 4, 5, 5, 6, 3, 4, 4, 5, 4, 5, 5, 6, 4, 5, 5, 6, 5, 6, 6, 7, 1, 2, 2, 3, 2, 3, 3, 4, 2, 3, 3, 4, 3, 4, 4, 5, 2, 3, 3, 4, 3, 4, 4, 5, 3, 4, 4, 5, 4, 5, 5, 6, 2, 3, 3, 4, 3, 4, 4, 5, 3, 4, 4, 5, 4, 5, 5, 6, 3, 4, 4, 5, 4, 5, 5, 6, 4, 5, 5, 6, 5, 6, 6, 7, 2, 3, 3, 4, 3, 4, 4, 5, 3, 4, 4, 5, 4, 5, 5, 6, 3, 4, 4, 5, 4, 5, 5, 6, 4, 5, 5, 6, 5, 6, 6, 7, 3, 4, 4, 5, 4, 5, 5, 6, 4, 5, 5, 6, 5, 6, 6, 7, 4, 5, 5, 6, 5, 6, 6, 7, 5, 6, 6, 7, 6, 7, 7, 8],dtype=np.uint8)\n",
    "\n",
    "bitmasks = list(range(10))\n",
    "bitmasks[0] = 0b00000001\n",
    "bitmasks[1] = 0b00000010\n",
    "bitmasks[2] = 0b00000100\n",
    "bitmasks[3] = 0b00001000\n",
    "bitmasks[4] = 0b00010000\n",
    "bitmasks[5] = 0b00100000\n",
    "bitmasks[6] = 0b01000000\n",
    "bitmasks[7] = 0b10000000\n",
    "\n",
    "class gbits:\n",
    "\n",
    "    def __init__(self,gb):\n",
    "        self.gb = gb\n",
    "        self.num_bits = int(len(gb)*8)\n",
    "\n",
    "    def __next__(self):\n",
    "        if self.iter_idx >= self.num_bits:\n",
    "            raise StopIteration()\n",
    "        out = self.gb._getbit(self.iter_idx)\n",
    "        self.iter_idx += 1\n",
    "        return(out)\n",
    "\n",
    "    def __getitem__(self,bit_idx):\n",
    "        out = self.gb._getbit(bit_idx)\n",
    "        return(out)\n",
    "\n",
    "    def __iter__(self):\n",
    "        self.iter_idx = 0\n",
    "        return(self)\n",
    "    \n",
    "    def __len__(self):\n",
    "        return(self.num_bits)\n",
    "\n",
    "    def __repr__(self):\n",
    "        s = f'<gbits>'\n",
    "        return(s)\n",
    "\n",
    "\n",
    "class gbytes(np.ndarray):\n",
    "    def __new__(cls,b):\n",
    "        buf = np.frombuffer(b,dtype=np.uint8)\n",
    "        qa = np.ndarray.__new__(cls,len(b),dtype=np.uint8)\n",
    "        qa[:] = buf\n",
    "        return(qa)\n",
    "    \n",
    "    def __repr__(self):\n",
    "        s = 'g\\''\n",
    "        for b in self:\n",
    "            s += '\\\\x{:02x}'.format(b)\n",
    "        s += '\\''\n",
    "        return(s)\n",
    "\n",
    "    def _getbit(self,bit_idx):\n",
    "        byte_idx = bit_idx // 8\n",
    "        bit_idx = bit_idx % 8\n",
    "        byte = self[byte_idx]\n",
    "        bit = byte & bitmasks[bit_idx]\n",
    "        bit = np.bool8(bit)\n",
    "        return(bit)\n",
    "\n",
    "\n",
    "    @property\n",
    "    def bits(self):\n",
    "        return(gbits(self))\n",
    "\n",
    "    def bit_count(self):\n",
    "        count = 0\n",
    "        for b in self:\n",
    "            count += byte_count[b]\n",
    "        return(count)\n",
    "\n",
    "    @staticmethod\n",
    "    def similarity(gb1, gb2):\n",
    "        sim_bin = gbytes(np.bitwise_not( np.bitwise_xor( gb1,gb2 ) ))\n",
    "        sim = sim_bin.bit_count()\n",
    "        sim = int(sim)\n",
    "        return(sim)\n",
    "\n",
    "        "
   ]
  },
  {
   "cell_type": "code",
   "execution_count": 230,
   "metadata": {},
   "outputs": [],
   "source": [
    "def b3hash(seq,rounds=256):\n",
    "    ''' a much bettter version '''\n",
    "    out_array = np.ndarray(rounds,dtype=np.bool8)\n",
    "    seq = [\"<START>\"] + list(seq) + [\"<END>\"]\n",
    "    last = True\n",
    "    bigram_count = dict()\n",
    "    for round in range(rounds):\n",
    "        sim_sum = 0\n",
    "        bigram_count = dict()\n",
    "        for i in range(1,len(seq)):\n",
    "            bigram = (seq[i-1],seq[i])\n",
    "            bigram_count.setdefault(bigram,0)\n",
    "            count = bigram_count[bigram]\n",
    "            h1 = okbithash(seq[i-1],round,mod2=0,mod3=count)\n",
    "            h2 = okbithash(seq[i],round,mod2=1,mod3=count)\n",
    "            bigram_count[bigram] += 1\n",
    "            x12 = h1 ^ h2\n",
    "            if x12:\n",
    "                sim_sum += 1\n",
    "            else:\n",
    "                sim_sum -= 1\n",
    "        if sim_sum > 0:\n",
    "            out_array[round] = True\n",
    "            last = True\n",
    "        elif sim_sum < 0:\n",
    "            out_array[round] = False\n",
    "            last = False\n",
    "        else:\n",
    "            last = (not last)\n",
    "            out_array[round] = last # deterministic tie-breaker\n",
    "    out_array = np.packbits(out_array)\n",
    "    out_array = gbytes(out_array)\n",
    "    return(out_array)\n"
   ]
  },
  {
   "cell_type": "code",
   "execution_count": 227,
   "metadata": {},
   "outputs": [
    {
     "ename": "NameError",
     "evalue": "name 'SipHash' is not defined",
     "output_type": "error",
     "traceback": [
      "\u001b[1;31m---------------------------------------------------------------------------\u001b[0m",
      "\u001b[1;31mNameError\u001b[0m                                 Traceback (most recent call last)",
      "\u001b[1;32m<ipython-input-227-28dd83b05553>\u001b[0m in \u001b[0;36m<module>\u001b[1;34m\u001b[0m\n\u001b[1;32m----> 1\u001b[1;33m \u001b[0mSipHash\u001b[0m\u001b[1;33m\u001b[0m\u001b[1;33m\u001b[0m\u001b[0m\n\u001b[0m",
      "\u001b[1;31mNameError\u001b[0m: name 'SipHash' is not defined"
     ]
    }
   ],
   "source": [
    "SipHash"
   ]
  },
  {
   "cell_type": "code",
   "execution_count": null,
   "metadata": {},
   "outputs": [],
   "source": [
    "for _ in range(10000000):\n",
    "    hashlib.blake2b(b'asdf').digest()"
   ]
  },
  {
   "cell_type": "code",
   "execution_count": null,
   "metadata": {},
   "outputs": [],
   "source": [
    "for _ in range(10000000*8):\n",
    "    hash(b'asdf')"
   ]
  },
  {
   "cell_type": "code",
   "execution_count": 233,
   "metadata": {},
   "outputs": [],
   "source": [
    "def b4hash(seq):\n",
    "    ''' a much bettter version '''\n",
    "    rounds=512\n",
    "    out_array = np.ndarray(rounds,dtype=np.bool8)\n",
    "    seq = [\"<START>\"] + list(seq) + [\"<END>\"]\n",
    "    last = True\n",
    "    bigram_count = dict()\n",
    "    hash_list = list()\n",
    "    #for i in range(1,len(seq)):\n",
    "    #    bigram = (seq[i-1],seq[i])\n",
    "    #    bigram_count.setdefault(bigram,0)\n",
    "    #    count_s = str(bigram_count[bigram])\n",
    "    #    h1 = hashlib.blake2b()\n",
    "#\n",
    "    #    h1 = okbithash(seq[i-1],round,mod2=0,mod3=count)\n",
    "    #    h2 = okbithash(seq[i],round,mod2=1,mod3=count)\n",
    "    #    bigram_count[bigram] += 1\n",
    "    #    x12 = h1 ^ h2\n",
    "    #    if x12:\n",
    "    #        sim_sum += 1\n",
    "    #    else:\n",
    "    #        sim_sum -= 1\n",
    "\n",
    "    for round in range(rounds):\n",
    "        sim_sum = 0\n",
    "        bigram_count = dict()\n",
    "        for i in range(1,len(seq)):\n",
    "            bigram = seq[i-1:i+1]\n",
    "            bigram_count.setdefault(bigram,0)\n",
    "            count = bigram_count[bigram]\n",
    "            h1 = okbithash(seq[i-1],round,mod2=0,mod3=count)\n",
    "            h2 = okbithash(seq[i],round,mod2=1,mod3=count)\n",
    "            bigram_count[bigram] += 1\n",
    "            x12 = h1 ^ h2\n",
    "            if x12:\n",
    "                sim_sum += 1\n",
    "            else:\n",
    "                sim_sum -= 1\n",
    "        if sim_sum > 0:\n",
    "            out_array[round] = True\n",
    "            last = True\n",
    "        elif sim_sum < 0:\n",
    "            out_array[round] = False\n",
    "            last = False\n",
    "        else:\n",
    "            last = (not last)\n",
    "            out_array[round] = last # deterministic tie-breaker\n",
    "    out_array = np.packbits(out_array)\n",
    "    out_array = gbytes(out_array)\n",
    "    return(out_array)\n"
   ]
  },
  {
   "cell_type": "code",
   "execution_count": null,
   "metadata": {},
   "outputs": [],
   "source": [
    "hex(0b10000000)"
   ]
  },
  {
   "cell_type": "code",
   "execution_count": null,
   "metadata": {},
   "outputs": [],
   "source": [
    "def one_one(bit1,bit2): return(bit1 & bit2) #\n",
    "def one_zero(bit1,bit2): return(bit1 & (bit1 ^ bit2))\n",
    "def zero_one(bit1,bit2): return(bit2 & (bit1 ^ bit2)) \n",
    "def zero_zero(bit1,bit2): return( ~(bit1 | bit2)) \n",
    "def not_one_one(bit1,bit2): return(~(bit1 & bit2)) \n",
    "def not_one_zero(bit1,bit2): return(~(bit1 & (bit1 ^ bit2))) #\n",
    "def not_zero_one(bit1,bit2): return(~(bit2 & (bit1 ^ bit2)))#\n",
    "def not_zero_zero(bit1,bit2): return( (bit1 | bit2)) #\n",
    "bit_funcs = np.array([one_one, one_zero, zero_one, zero_zero, not_one_one, not_one_zero, not_zero_one, not_zero_zero])\n",
    "\n",
    "def itty_bibithash(bit1, bit2, mod1=0, mod2=0, mod3=0):\n",
    "    bit1 = np.bool8(bit1)\n",
    "    bit2 = np.bool8(bit2)\n",
    "    idx = hash(f'|{mod1}|{mod2}|{mod3}|') % len(bit_funcs) \n",
    "    func = bit_funcs[idx]\n",
    "    out = func(bit1,bit2)\n",
    "    return(out)\n"
   ]
  },
  {
   "cell_type": "code",
   "execution_count": null,
   "metadata": {},
   "outputs": [],
   "source": [
    "zz = np.array([0,1])\n",
    "zz[np.uint8(np.bool8(2))]"
   ]
  },
  {
   "cell_type": "code",
   "execution_count": null,
   "metadata": {},
   "outputs": [],
   "source": [
    "def itty_b3hash(b,rounds=64):\n",
    "    bits = gbytes(b).bits\n",
    "    bigram_count = np.array([0,0,0,0])\n",
    "    out_array = np.ndarray(rounds,dtype=np.bool8)\n",
    "    last = True\n",
    "    for round in range(rounds):\n",
    "        sim_sum = 0\n",
    "        bigram_count = np.array([0,0,0,0])\n",
    "        for i in range(1,len(bits)):\n",
    "            b1 = bits[i-1]\n",
    "            b2 = bits[i]\n",
    "            bigram_ref = (b2<<1)+b1\n",
    "            count = bigram_count[bigram_ref]\n",
    "            h12 = itty_bibithash(b1,b2,mod1=round,mod2=count)\n",
    "            bigram_count[bigram_ref] += 1\n",
    "            if h12:\n",
    "                sim_sum += 1\n",
    "            else:\n",
    "                sim_sum -= 1\n",
    "        if sim_sum > 0:\n",
    "            out_array[round] = True\n",
    "            last = True\n",
    "        elif sim_sum < 0:\n",
    "            out_array[round] = False\n",
    "            last = False\n",
    "        else:\n",
    "            last = (not last)\n",
    "            out_array[round] = last # deterministic tie-breaker\n",
    "    out_array = np.packbits(out_array)\n",
    "    out_array = gbytes(out_array)\n",
    "    return(out_array)"
   ]
  },
  {
   "cell_type": "code",
   "execution_count": 189,
   "metadata": {},
   "outputs": [
    {
     "data": {
      "text/plain": [
       "32"
      ]
     },
     "execution_count": 189,
     "metadata": {},
     "output_type": "execute_result"
    }
   ],
   "source": [
    "256 // 8"
   ]
  },
  {
   "cell_type": "code",
   "execution_count": 221,
   "metadata": {},
   "outputs": [],
   "source": [
    "from collections import defaultdict\n",
    "import hashlib \n",
    "import numpy as np\n",
    "\n",
    "bitmasks = list(range(8))\n",
    "bitmasks[0] = 0b00000001\n",
    "bitmasks[1] = 0b00000010\n",
    "bitmasks[2] = 0b00000100\n",
    "bitmasks[3] = 0b00001000\n",
    "bitmasks[4] = 0b00010000\n",
    "bitmasks[5] = 0b00100000\n",
    "bitmasks[6] = 0b01000000\n",
    "bitmasks[7] = 0b10000000\n",
    "\n",
    "\n",
    "def getbit(bstr,idx):\n",
    "    byte_idx = idx // 8\n",
    "    bit_idx = idx % 8\n",
    "    val = bstr[byte_idx] & bitmasks[bit_idx]\n",
    "    if val > 0:\n",
    "        val = 1\n",
    "    return(val)\n",
    "\n",
    "def setbit(bstr,idx):\n",
    "    byte_idx = idx // 8\n",
    "    bit_idx = idx % 8\n",
    "    bstr[byte_idx] |= bitmasks[bit_idx]\n",
    "    #print(bstr[byte_idx])\n",
    "\n",
    "\n",
    "def b5hash(input):\n",
    "    # set-inclusion similarity hash\n",
    "    freq = defaultdict(lambda :0) \n",
    "    bitcounts = np.zeros(256,dtype=np.int64)\n",
    "    output = np.zeros(32,dtype=np.uint8)\n",
    "    #for token_b in input:\n",
    "    for i in range(len(input)-1):\n",
    "        token_b = input[i:i+2]\n",
    "        freq[token_b] += 1  # unfortunately, this uses TWO hashings \n",
    "    for token_b,count in freq.items():\n",
    "        #token_b = token_b.to_bytes(1,'little') ### GET RID OF THIS JUNK\n",
    "        b2b = hashlib.blake2b()\n",
    "        b2b.update(token_b)\n",
    "        for i in range(count):\n",
    "        \n",
    "            cnt_s = f'|{i}'\n",
    "            cnt_b = cnt_s.encode('ascii')\n",
    "\n",
    "            b2b2 = b2b.copy()\n",
    "            b2b2.update(cnt_b)\n",
    "            digest = b2b2.digest()\n",
    "\n",
    "            for idx in range(256):\n",
    "                val = getbit(digest,idx)\n",
    "                if val == 1:\n",
    "                    bitcounts[idx] += 1\n",
    "                else:\n",
    "                    bitcounts[idx] -= 1\n",
    "    last = 0\n",
    "    for idx in range(256):\n",
    "        bcnt = bitcounts[idx]\n",
    "        if bcnt > 0:\n",
    "            setbit(output,idx)\n",
    "        elif bcnt == 0:\n",
    "            if last == 1:\n",
    "                setbit(output,idx)\n",
    "                last = 0\n",
    "            else:\n",
    "                last = 1\n",
    "    output = output.tobytes()\n",
    "    return(output)\n",
    "    \n",
    "\n"
   ]
  },
  {
   "cell_type": "code",
   "execution_count": 236,
   "metadata": {},
   "outputs": [],
   "source": [
    "\n",
    "\n",
    "def b3hash(seq,rounds=256):\n",
    "    ''' a much bettter version '''\n",
    "    out_array = np.ndarray(rounds,dtype=np.bool8)\n",
    "    seq = [\"<START>\"] + list(seq) + [\"<END>\"]\n",
    "    last = True\n",
    "    bigram_count = dict()\n",
    "    for round in range(rounds):\n",
    "        sim_sum = 0\n",
    "        bigram_count = dict()\n",
    "        for i in range(1,len(seq)):\n",
    "            bigram = (seq[i-1],seq[i])\n",
    "            bigram_count.setdefault(bigram,0)\n",
    "            count = bigram_count[bigram]\n",
    "            h1 = okbithash(seq[i-1],round,mod2=0,mod3=count)\n",
    "            h2 = okbithash(seq[i],round,mod2=1,mod3=count)\n",
    "            bigram_count[bigram] += 1\n",
    "            x12 = h1 ^ h2\n",
    "            if x12:\n",
    "                sim_sum += 1\n",
    "            else:\n",
    "                sim_sum -= 1\n",
    "        if sim_sum > 0:\n",
    "            out_array[round] = True\n",
    "            last = True\n",
    "        elif sim_sum < 0:\n",
    "            out_array[round] = False\n",
    "            last = False\n",
    "        else:\n",
    "            last = (not last)\n",
    "            out_array[round] = last # deterministic tie-breaker\n",
    "    out_array = np.packbits(out_array)\n",
    "    out_array = gbytes(out_array)\n",
    "    return(out_array)\n",
    "\n"
   ]
  },
  {
   "cell_type": "code",
   "execution_count": 238,
   "metadata": {},
   "outputs": [],
   "source": [
    "for i in range(200):\n",
    "    b5hash(b'aso;djfniwuaeo;nfasoiudhfaisdfnkl;jasdbnfilbasdjfkna;skljdnfl;aksjdfn;aklsjdhfpwaeiubgdfhgbyreg aerufbaweflawhjeb rri4ueyh34982729i3yr9p8hapsdifbnp39487tghbaeuriga439p8hgt43987hpt34ut9b349t8b4t39b')"
   ]
  },
  {
   "cell_type": "code",
   "execution_count": 242,
   "metadata": {},
   "outputs": [],
   "source": [
    "for i in range(200):\n",
    "    b3hash('aso;djfniwuaeo;nfasoiudhfaisdfnkl;jasdbnfilbasdjfkna;skljdnfl;aksjdfn;aklsjdhfpwaeiubgdfhgbyreg aerufbaweflawhjeb rri4ueyh34982729i3yr9p8hapsdifbnp39487tghbaeuriga439p8hgt43987hpt34ut9b349t8b4t39b')"
   ]
  },
  {
   "cell_type": "code",
   "execution_count": 216,
   "metadata": {},
   "outputs": [],
   "source": [
    "import hashlib"
   ]
  },
  {
   "cell_type": "code",
   "execution_count": 145,
   "metadata": {},
   "outputs": [],
   "source": [
    "b2b = blake2b()\n",
    "b2b.update(b'sdf')\n"
   ]
  },
  {
   "cell_type": "code",
   "execution_count": 152,
   "metadata": {},
   "outputs": [],
   "source": [
    "b2b.update(b'234')"
   ]
  },
  {
   "cell_type": "code",
   "execution_count": 153,
   "metadata": {},
   "outputs": [
    {
     "data": {
      "text/plain": [
       "'5f207c779e45447e6725d8ecde425f5f5fbdf081a60878a8bc043dedb62ac9787229f26b5ac445933889e7c026b12de51c947ef36b948668bf3d66507b446b35'"
      ]
     },
     "execution_count": 153,
     "metadata": {},
     "output_type": "execute_result"
    }
   ],
   "source": [
    "b2b.hexdigest()"
   ]
  },
  {
   "cell_type": "code",
   "execution_count": 150,
   "metadata": {},
   "outputs": [],
   "source": [
    "b2b2 = b2b.copy()"
   ]
  },
  {
   "cell_type": "code",
   "execution_count": 154,
   "metadata": {},
   "outputs": [
    {
     "data": {
      "text/plain": [
       "'4bd01a53e3fa9243c57fbfcf18405a3a9b2e162d565064f9be0f96df64cb2ff65677ab222de749dd14493182c69325be20aeb749f0eadade5e0817d08834e9df'"
      ]
     },
     "execution_count": 154,
     "metadata": {},
     "output_type": "execute_result"
    }
   ],
   "source": [
    "b2b2.hexdigest()"
   ]
  },
  {
   "cell_type": "code",
   "execution_count": 50,
   "metadata": {},
   "outputs": [],
   "source": []
  },
  {
   "cell_type": "code",
   "execution_count": 66,
   "metadata": {},
   "outputs": [],
   "source": [
    "from collections import defaultdict"
   ]
  },
  {
   "cell_type": "code",
   "execution_count": 168,
   "metadata": {},
   "outputs": [
    {
     "data": {
      "text/plain": [
       "dict_items([(1, 1)])"
      ]
     },
     "execution_count": 168,
     "metadata": {},
     "output_type": "execute_result"
    }
   ],
   "source": [
    "zz = defaultdict(lambda :0)\n",
    "zz\n",
    "zz[1]+=1\n",
    "zz[1]\n",
    "#zz.get(1,0)"
   ]
  },
  {
   "cell_type": "code",
   "execution_count": 170,
   "metadata": {},
   "outputs": [
    {
     "name": "stdout",
     "output_type": "stream",
     "text": [
      "1\n",
      "1\n"
     ]
    }
   ],
   "source": [
    "for i,j in zz.items():\n",
    "    print(i)\n",
    "    print(j)"
   ]
  },
  {
   "cell_type": "code",
   "execution_count": 142,
   "metadata": {},
   "outputs": [],
   "source": [
    "zz = defaultdict(lambda :0)\n",
    "for i in range(100000000):\n",
    "    zz[1]+=1"
   ]
  },
  {
   "cell_type": "code",
   "execution_count": 143,
   "metadata": {},
   "outputs": [],
   "source": [
    "zz = defaultdict(lambda :0)\n",
    "for i in range(100000000):\n",
    "    zz[1]=1"
   ]
  },
  {
   "cell_type": "code",
   "execution_count": 122,
   "metadata": {},
   "outputs": [],
   "source": [
    "zz = dict({1:1})\n",
    "for i in range(100000000):\n",
    "    #zz.setdefault(1,1)\n",
    "    zz[1]=zz[1]+1"
   ]
  },
  {
   "cell_type": "code",
   "execution_count": 56,
   "metadata": {},
   "outputs": [
    {
     "ename": "TypeError",
     "evalue": "Unicode-objects must be encoded before hashing",
     "output_type": "error",
     "traceback": [
      "\u001b[1;31m---------------------------------------------------------------------------\u001b[0m",
      "\u001b[1;31mTypeError\u001b[0m                                 Traceback (most recent call last)",
      "\u001b[1;32m<ipython-input-56-aad80b983003>\u001b[0m in \u001b[0;36m<module>\u001b[1;34m\u001b[0m\n\u001b[0;32m      1\u001b[0m \u001b[0mb2b\u001b[0m \u001b[1;33m=\u001b[0m \u001b[0mblake2b\u001b[0m\u001b[1;33m(\u001b[0m\u001b[1;33m)\u001b[0m\u001b[1;33m\u001b[0m\u001b[1;33m\u001b[0m\u001b[0m\n\u001b[1;32m----> 2\u001b[1;33m \u001b[0mb2b\u001b[0m\u001b[1;33m.\u001b[0m\u001b[0mupdate\u001b[0m\u001b[1;33m(\u001b[0m\u001b[1;34m'catdog'\u001b[0m\u001b[1;33m)\u001b[0m\u001b[1;33m\u001b[0m\u001b[1;33m\u001b[0m\u001b[0m\n\u001b[0m\u001b[0;32m      3\u001b[0m \u001b[0mb2b\u001b[0m\u001b[1;33m.\u001b[0m\u001b[0mupdate\u001b[0m\u001b[1;33m(\u001b[0m\u001b[1;34mb'zzz'\u001b[0m\u001b[1;33m)\u001b[0m\u001b[1;33m\u001b[0m\u001b[1;33m\u001b[0m\u001b[0m\n\u001b[0;32m      4\u001b[0m \u001b[0mb2b\u001b[0m\u001b[1;33m.\u001b[0m\u001b[0mhexdigest\u001b[0m\u001b[1;33m(\u001b[0m\u001b[1;33m)\u001b[0m\u001b[1;33m\u001b[0m\u001b[1;33m\u001b[0m\u001b[0m\n",
      "\u001b[1;31mTypeError\u001b[0m: Unicode-objects must be encoded before hashing"
     ]
    }
   ],
   "source": [
    "b2b = blake2b()\n",
    "b2b.update('catdog')\n",
    "b2b.update(b'zzz')\n",
    "b2b.hexdigest()"
   ]
  },
  {
   "cell_type": "code",
   "execution_count": null,
   "metadata": {},
   "outputs": [],
   "source": [
    "zz = itty_b3hash(b'\\xff\\xff\\xff\\xff\\xff\\xff')\n",
    "zzz = itty_b3hash(b'\\xff\\xff\\xff\\xaa\\xaf\\xaf')\n"
   ]
  },
  {
   "cell_type": "code",
   "execution_count": null,
   "metadata": {},
   "outputs": [],
   "source": [
    "gbytes.similarity(zz,zzz)/64"
   ]
  },
  {
   "cell_type": "code",
   "execution_count": null,
   "metadata": {},
   "outputs": [],
   "source": [
    "cats = b3hash('cat')\n",
    "caats = b3hash('caats')\n",
    "caaaats = b3hash('caaaats')\n",
    "catscats = b3hash('catscats')\n",
    "bcatscats = b3hash('bcatscats')\n",
    "caattaats = b3hash('caattaats')\n"
   ]
  },
  {
   "cell_type": "code",
   "execution_count": null,
   "metadata": {},
   "outputs": [],
   "source": [
    "elephant = b3hash('elephant')\n",
    "eleephant = b3hash('eleephant')"
   ]
  },
  {
   "cell_type": "code",
   "execution_count": null,
   "metadata": {},
   "outputs": [],
   "source": [
    "alice = b3hash('Alice was beginning to get very tired of sitting by her sister on the bank, and of having nothing to do')\n",
    "april = b3hash('April was beginning to get very tired of sitting by her sister on the bank, and of having nothing to do')\n",
    "april2 = b3hash('April was finally tired of sitting by her brother by the tree, and of having nothing to do')\n",
    "ana = b3hash('of sitting by her nothing to do the bank, and of having Ana was beginning sister on to get very tired ')\n",
    "#ana = b3hash('Ana was beginning to get very tired of sitting by her sister on the bank, and of having nothing to do')\n",
    "\n",
    "\n",
    "long_sentence = b3hash('This is an extremely long sentence which should result in similarity for some reason ok bye')\n",
    "longsentence = b3hash('Thisisanextremelylongsentencewhichshouldresultinsimilarityforsomereasonokbyesomemorewordshere')\n",
    "\n",
    "shadowsfollow = b3hash('shadowsfollow')"
   ]
  },
  {
   "cell_type": "code",
   "execution_count": null,
   "metadata": {},
   "outputs": [],
   "source": [
    "garbage = b3hash('qwertysjdfniabuioopkjhgfdfvbsdljfnjkasdnxcvbkxjcvdfkjnndmmbyasdkjfbkhbsdfkzxcvibekxcbvkasdljfnkjksbdf')\n"
   ]
  },
  {
   "cell_type": "code",
   "execution_count": null,
   "metadata": {},
   "outputs": [],
   "source": [
    "pow = b3hash('aaaaab')\n",
    "wow = b3hash('aaaaac')"
   ]
  },
  {
   "cell_type": "code",
   "execution_count": null,
   "metadata": {},
   "outputs": [],
   "source": [
    "garbage2 = b3hash(str([random.randint(87,122) for _ in range(5)]))"
   ]
  },
  {
   "cell_type": "code",
   "execution_count": null,
   "metadata": {},
   "outputs": [],
   "source": [
    "gbytes.similarity(pow,wow) / 256"
   ]
  },
  {
   "cell_type": "code",
   "execution_count": null,
   "metadata": {},
   "outputs": [],
   "source": [
    "gbytes.similarity(alice,april) / 256"
   ]
  },
  {
   "cell_type": "code",
   "execution_count": null,
   "metadata": {},
   "outputs": [],
   "source": [
    "gbytes.similarity(alice,april2) / 256"
   ]
  },
  {
   "cell_type": "code",
   "execution_count": null,
   "metadata": {},
   "outputs": [],
   "source": [
    "gbytes.similarity(alice,ana) / 256"
   ]
  },
  {
   "cell_type": "code",
   "execution_count": null,
   "metadata": {},
   "outputs": [],
   "source": [
    "gbytes.similarity(april,garbage2) / 256"
   ]
  },
  {
   "cell_type": "code",
   "execution_count": null,
   "metadata": {},
   "outputs": [],
   "source": [
    "gbytes.similarity(long_sentence,april) / 256"
   ]
  },
  {
   "cell_type": "code",
   "execution_count": null,
   "metadata": {},
   "outputs": [],
   "source": [
    "gbytes.similarity(long_sentence,alice) / 256"
   ]
  },
  {
   "cell_type": "code",
   "execution_count": null,
   "metadata": {},
   "outputs": [],
   "source": [
    "gbytes.similarity(garbage,april) / 256"
   ]
  },
  {
   "cell_type": "code",
   "execution_count": null,
   "metadata": {},
   "outputs": [],
   "source": [
    "gbytes.similarity(longsentence,long_sentence) / 256"
   ]
  },
  {
   "cell_type": "code",
   "execution_count": null,
   "metadata": {},
   "outputs": [],
   "source": [
    "gbytes.similarity(garbage,longsentence) / 256"
   ]
  },
  {
   "cell_type": "code",
   "execution_count": null,
   "metadata": {},
   "outputs": [],
   "source": [
    "gbytes.similarity(caattaats,shadowsfollow) / 256"
   ]
  },
  {
   "cell_type": "code",
   "execution_count": null,
   "metadata": {},
   "outputs": [],
   "source": [
    "gbytes.similarity(garbage2,april) / 256"
   ]
  },
  {
   "cell_type": "code",
   "execution_count": null,
   "metadata": {},
   "outputs": [],
   "source": [
    "garbage2"
   ]
  },
  {
   "cell_type": "code",
   "execution_count": 6,
   "metadata": {},
   "outputs": [
    {
     "data": {
      "text/plain": [
       "129"
      ]
     },
     "execution_count": 6,
     "metadata": {},
     "output_type": "execute_result"
    }
   ],
   "source": [
    "0xff//2+2"
   ]
  },
  {
   "cell_type": "code",
   "execution_count": 22,
   "metadata": {},
   "outputs": [],
   "source": [
    "import numpy as np"
   ]
  },
  {
   "cell_type": "code",
   "execution_count": 49,
   "metadata": {},
   "outputs": [
    {
     "name": "stdout",
     "output_type": "stream",
     "text": [
      "192\n",
      "37\n",
      "71\n",
      "71\n",
      "71\n",
      "71\n",
      "71\n",
      "71\n",
      "71\n",
      "71\n",
      "71\n",
      "71\n"
     ]
    },
    {
     "name": "stderr",
     "output_type": "stream",
     "text": [
      "<ipython-input-49-56ef47f041ce>:8: RuntimeWarning: overflow encountered in ulonglong_scalars\n",
      "  wv = wv* np.uint64(0x8000000000000001)\n",
      "<ipython-input-49-56ef47f041ce>:28: RuntimeWarning: overflow encountered in ulonglong_scalars\n",
      "  pos = np.uint8(pos1+pos2)\n"
     ]
    },
    {
     "data": {
      "text/plain": [
       "[True,\n",
       " False,\n",
       " False,\n",
       " False,\n",
       " False,\n",
       " False,\n",
       " False,\n",
       " False,\n",
       " False,\n",
       " False,\n",
       " False,\n",
       " False]"
      ]
     },
     "execution_count": 49,
     "metadata": {},
     "output_type": "execute_result"
    }
   ],
   "source": []
  },
  {
   "cell_type": "code",
   "execution_count": null,
   "metadata": {},
   "outputs": [],
   "source": []
  },
  {
   "cell_type": "code",
   "execution_count": null,
   "metadata": {},
   "outputs": [],
   "source": []
  },
  {
   "cell_type": "code",
   "execution_count": null,
   "metadata": {},
   "outputs": [],
   "source": [
    "8*32"
   ]
  },
  {
   "cell_type": "code",
   "execution_count": 2,
   "metadata": {},
   "outputs": [],
   "source": [
    "import random\n",
    "import numpy as np"
   ]
  },
  {
   "cell_type": "code",
   "execution_count": 3,
   "metadata": {},
   "outputs": [],
   "source": [
    "x = np.ndarray(32,dtype=np.uint8)\n",
    "x[0]  = np.uint8(0x57)\n",
    "x[1]  = np.uint8(0x8d)\n",
    "x[2]  = np.uint8(0xd1)\n",
    "x[3]  = np.uint8(0xff)\n",
    "x[4]  = np.uint8(0xad)\n",
    "x[5]  = np.uint8(0x7f)\n",
    "x[6]  = np.uint8(0x1a)\n",
    "x[7]  = np.uint8(0x09)\n",
    "x[8]  = np.uint8(0xfd)\n",
    "x[9]  = np.uint8(0x65)\n",
    "x[10] = np.uint8(0x61)\n",
    "x[11] = np.uint8(0x52)\n",
    "x[12] = np.uint8(0x18)\n",
    "x[13] = np.uint8(0x93)\n",
    "x[14] = np.uint8(0x01)\n",
    "x[15] = np.uint8(0xe1)\n",
    "x[16] = np.uint8(0x30)\n",
    "x[17] = np.uint8(0x5d)\n",
    "x[18] = np.uint8(0xd1)\n",
    "x[19] = np.uint8(0xbf)\n",
    "x[20] = np.uint8(0x17)\n",
    "x[21] = np.uint8(0xcc)\n",
    "x[22] = np.uint8(0x13)\n",
    "x[23] = np.uint8(0xbd)\n",
    "x[24] = np.uint8(0x29)\n",
    "x[25] = np.uint8(0x0a)\n",
    "x[26] = np.uint8(0xcf)\n",
    "x[27] = np.uint8(0x31)\n",
    "x[28] = np.uint8(0x98)\n",
    "x[29] = np.uint8(0xc3)\n",
    "x[30] = np.uint8(0x1a)\n",
    "x[31] = np.uint8(0x0f)"
   ]
  },
  {
   "cell_type": "code",
   "execution_count": 96,
   "metadata": {},
   "outputs": [
    {
     "name": "stdout",
     "output_type": "stream",
     "text": [
      "0xf2, 0x3b, 0xf8, 0x76, 0xe6, 0x1a, 0x27, 0x3c, 0x32, 0x3d, 0x41, 0x4f, 0x45, 0x8d, 0x9b, 0x6a, 0xb4, 0xed, 0x5b, 0xa0, 0x55, 0x5e, 0x95, 0xf8, 0x5e, 0x59, 0x14, 0x60, 0xe1, 0x21, 0xb4, 0x74, "
     ]
    }
   ],
   "source": [
    "for val in np.packbits(bitwheel):\n",
    "    print(f'0x{val:02x}, ',end='')"
   ]
  },
  {
   "cell_type": "code",
   "execution_count": 6,
   "metadata": {},
   "outputs": [],
   "source": [
    "wheel = np.array(list(range(256)),dtype=np.uint8)\n",
    "np.random.shuffle(wheel)\n",
    "bitwheel = np.array(list(range(256)),dtype=np.bool8)\n",
    "\n",
    "bitwheel = np.random.choice(a=[True,False],size=256)\n",
    "bitwheel.dtype = np.bool8\n"
   ]
  },
  {
   "cell_type": "code",
   "execution_count": 7,
   "metadata": {},
   "outputs": [
    {
     "data": {
      "text/plain": [
       "32"
      ]
     },
     "execution_count": 7,
     "metadata": {},
     "output_type": "execute_result"
    }
   ],
   "source": [
    "len(np.packbits(bitwheel)"
   ]
  },
  {
   "cell_type": "code",
   "execution_count": 89,
   "metadata": {},
   "outputs": [
    {
     "data": {
      "text/plain": [
       "array([231,  55, 152, 174,  16,  88,  14,  85,  42, 251,  40, 170,  32,\n",
       "       141, 198, 133, 248,  89,  72, 161, 209,  98, 157, 229, 213,  92,\n",
       "       186,  31,  96,  54, 204, 126, 202, 180,  29, 173,   7, 179,  34,\n",
       "       148, 132, 242,  78,  37, 236, 167, 228, 165, 234,  87,  99, 214,\n",
       "       109,   1,  62, 169,  22,   9, 118, 233, 223, 243, 195, 212, 124,\n",
       "       255, 222, 215, 136, 177,  68, 142,  36, 115,   3,  67, 125, 137,\n",
       "       146, 206, 121, 221,  11, 201, 239, 154,  81,  82, 252, 210, 123,\n",
       "        45, 187, 247, 160, 112,  47, 225, 104, 217, 149, 111, 196, 171,\n",
       "       240, 131,  39,  49, 119,  93, 128, 216,  63,  53,  41, 156, 194,\n",
       "        25,  70, 150,  65,  17, 232,  38, 237,  35, 106,  33, 113,  69,\n",
       "         5,  84,  43, 129, 107,  27,  73,  44,  52, 208, 185, 250, 191,\n",
       "        76, 182, 116, 245, 230, 200,  61, 122,  77,  66,  97,  13,  51,\n",
       "       108, 130, 120,   0, 110, 175, 166,  15, 102,   6, 184, 159, 162,\n",
       "        56, 197, 238, 224, 254, 135, 227,  71, 101,  10, 188, 220,   2,\n",
       "       193, 172, 144,  86,  80,  59,  50, 246, 244, 190,  30, 145, 253,\n",
       "       163, 199, 192,  83, 100,  60, 176,  91, 203,  24, 181, 249,  20,\n",
       "       127,  12, 189,  64, 241, 218,  58,  75, 114,  23, 235,  21, 105,\n",
       "       211, 183, 207, 158, 151,   8,  90,  26,  18, 138, 139,  19,  79,\n",
       "       205, 103,  28,  74,  48,  57, 164, 178, 226, 134,   4, 147,  46,\n",
       "       153, 143, 168, 219,  95, 155, 140,  94, 117], dtype=uint8)"
      ]
     },
     "execution_count": 89,
     "metadata": {},
     "output_type": "execute_result"
    }
   ],
   "source": [
    "wheel"
   ]
  },
  {
   "cell_type": "code",
   "execution_count": 88,
   "metadata": {},
   "outputs": [
    {
     "data": {
      "text/plain": [
       "'0x42'"
      ]
     },
     "execution_count": 88,
     "metadata": {},
     "output_type": "execute_result"
    }
   ],
   "source": [
    "hex(wheel[0x98])"
   ]
  },
  {
   "cell_type": "code",
   "execution_count": 129,
   "metadata": {},
   "outputs": [
    {
     "name": "stderr",
     "output_type": "stream",
     "text": [
      "<ipython-input-129-560f86b9a5b5>:23: RuntimeWarning: overflow encountered in ubyte_scalars\n",
      "  pos[j] -= np.bitwise_xor(np.bitwise_xor(pos[j],wheel[pos[j]]),last) + np.uint8(i)\n",
      "<ipython-input-129-560f86b9a5b5>:15: RuntimeWarning: overflow encountered in ubyte_scalars\n",
      "  pos[j] += np.bitwise_xor(np.bitwise_xor(pos[j],wheel[pos[j]]),last) + np.uint8(i)\n",
      "<ipython-input-129-560f86b9a5b5>:31: RuntimeWarning: overflow encountered in ubyte_scalars\n",
      "  bit_index += wheel[pos[j]]\n",
      "<ipython-input-129-560f86b9a5b5>:32: RuntimeWarning: overflow encountered in ubyte_scalars\n",
      "  pos[j] += np.uint8(1)\n"
     ]
    },
    {
     "name": "stdout",
     "output_type": "stream",
     "text": [
      "136\n"
     ]
    }
   ],
   "source": [
    "def sim(v1,v2):\n",
    "    out = np.sum(np.bitwise_not(np.bitwise_xor(v1,v2)))\n",
    "    return(out)\n",
    "\n",
    "def thingy(binseed):\n",
    "    pos = x.copy()\n",
    "    last = np.uint8(0)\n",
    "    for i in range(len(binseed)):\n",
    "        if binseed[i] == True:\n",
    "            \n",
    "            for j in range(len(pos)):\n",
    "                #if j == 4:\n",
    "                #    print(f'{i}: pos before {pos[j]:02x}')\n",
    "                #    print(f'{i}: wheel {wheel[pos[j]]:02x}')\n",
    "                pos[j] += np.bitwise_xor(np.bitwise_xor(pos[j],wheel[pos[j]]),last) + np.uint8(i)\n",
    "                last = pos[j]\n",
    "\n",
    "        else:\n",
    "            for j in range(len(pos)):\n",
    "                #if j == 4:\n",
    "                #    print(f'{i}: pos before {pos[j]:02x}')\n",
    "                #    print(f'{i}: wheel {wheel[pos[j]]:02x}')\n",
    "                pos[j] -= np.bitwise_xor(np.bitwise_xor(pos[j],wheel[pos[j]]),last) + np.uint8(i)\n",
    "                last = pos[j]\n",
    "        #print(f'{i}: pos after {pos[4]:02x}')\n",
    "        #print(pos[j])\n",
    "    output = np.ndarray(256,dtype=np.bool8)\n",
    "    for i in range(256):\n",
    "        bit_index = np.uint8(0)\n",
    "        for j in range(len(pos)):\n",
    "            bit_index += wheel[pos[j]]\n",
    "            pos[j] += np.uint8(1)\n",
    "        #print(f'{i}: {bit_index}')\n",
    "\n",
    "        bit = bitwheel[bit_index]\n",
    "        output[i] = bit\n",
    "    return(output)\n",
    "\n",
    "control_seed = np.random.choice(a=[True,False],size=2046)\n",
    "randchange = np.random.randint(0,len(control_seed))\n",
    "#print(control_seed[randchange])\n",
    "test_seed = control_seed.copy()\n",
    "test_seed[randchange] = np.bitwise_not(test_seed[randchange])\n",
    "#print(test_seed[randchange])\n",
    "#print(control_seed[randchange])\n",
    "control1 = thingy(control_seed)\n",
    "#print('---------------------')\n",
    "test1 = thingy(test_seed)\n",
    "#print('---------------------')\n",
    "similarity = sim(control1,test1)\n",
    "print(similarity)\n",
    "#if abs(similarity) > 30:\n",
    "#    print(i)\n",
    "#    print(similarity)\n",
    "#    break\n",
    "#        "
   ]
  },
  {
   "cell_type": "code",
   "execution_count": 15,
   "metadata": {},
   "outputs": [
    {
     "name": "stdout",
     "output_type": "stream",
     "text": [
      "81, 172, 237, 165, 218, 77, 113, 30, 62, 96, 154, 191, 243, 248, 172, 146, 212, 96, 157, 177, 101, 50, 0, 222, 187, 115, 63, 63, 49, 151, 139, 127, "
     ]
    }
   ],
   "source": [
    "for i in np.packbits(test_seed):\n",
    "    print(f'{i}, ',end='')"
   ]
  },
  {
   "cell_type": "code",
   "execution_count": 44,
   "metadata": {},
   "outputs": [
    {
     "data": {
      "text/plain": [
       "82"
      ]
     },
     "execution_count": 44,
     "metadata": {},
     "output_type": "execute_result"
    }
   ],
   "source": [
    "0x57 - ((0x57 ^ 0x52) +0)"
   ]
  },
  {
   "cell_type": "code",
   "execution_count": 98,
   "metadata": {},
   "outputs": [
    {
     "data": {
      "text/plain": [
       "-12"
      ]
     },
     "execution_count": 98,
     "metadata": {},
     "output_type": "execute_result"
    }
   ],
   "source": [
    "116-128"
   ]
  }
 ],
 "metadata": {
  "kernelspec": {
   "display_name": "Python 3",
   "language": "python",
   "name": "python3"
  },
  "language_info": {
   "codemirror_mode": {
    "name": "ipython",
    "version": 3
   },
   "file_extension": ".py",
   "mimetype": "text/x-python",
   "name": "python",
   "nbconvert_exporter": "python",
   "pygments_lexer": "ipython3",
   "version": "3.9.2"
  },
  "orig_nbformat": 4,
  "vscode": {
   "interpreter": {
    "hash": "75826d0e9c1dcf44b53c1d5fae65e2ac865fe2d5c7414d417cbea9d539b26360"
   }
  }
 },
 "nbformat": 4,
 "nbformat_minor": 2
}
