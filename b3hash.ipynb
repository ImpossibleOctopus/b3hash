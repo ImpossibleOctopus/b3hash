{
 "cells": [
  {
   "cell_type": "code",
   "execution_count": 2,
   "metadata": {},
   "outputs": [],
   "source": [
    "import numpy as np\n",
    "import random\n",
    "from hashlib import blake2b\n",
    "from gbytes import *"
   ]
  },
  {
   "cell_type": "code",
   "execution_count": 15,
   "metadata": {},
   "outputs": [],
   "source": [
    "def okhash64(val,mod=0):\n",
    "    mod = f'mod:{mod}'\n",
    "    h = hash(val) * hash(mod)\n",
    "    h = h * 0x0000000001000000000000000000013B\n",
    "    h = h % 0xffffffffffffffff\n",
    "    h = h.to_bytes(byteorder='little',length=8)\n",
    "    h = gbytes(h)\n",
    "    return(h)"
   ]
  },
  {
   "cell_type": "code",
   "execution_count": 120,
   "metadata": {},
   "outputs": [],
   "source": [
    "def okhash63(val,mod=0,mod2=0):\n",
    "    mod = f'mod:{mod},{mod2}'\n",
    "    h = hash(val) * hash(mod)\n",
    "    h = h * 0x0000000001000000000000000000013B\n",
    "    h = h % 0xffffffffffffffff\n",
    "    h = h | 0x0000000000000001 # least significant is always lit\n",
    "    h = h.to_bytes(byteorder='little',length=8)\n",
    "    h = gbytes(h)\n",
    "    return(h)"
   ]
  },
  {
   "cell_type": "code",
   "execution_count": null,
   "metadata": {},
   "outputs": [],
   "source": []
  },
  {
   "cell_type": "code",
   "execution_count": 182,
   "metadata": {},
   "outputs": [],
   "source": [
    "def okhash63(val,mod=0,mod2=0):\n",
    "    mod = f'mod:{mod},{mod2}XX'\n",
    "    val = val.encode('ascii')\n",
    "    mod = mod.encode('ascii')\n",
    "    b = val + mod\n",
    "    h = gbytes(blake2b(b).digest())[:8]\n",
    "    h = gbytes.bitwise_or(h,gbytes(b'\\x00\\x00\\x00\\x00\\x00\\x00\\x00\\x01'))\n",
    "    return(h)"
   ]
  },
  {
   "cell_type": "code",
   "execution_count": 285,
   "metadata": {},
   "outputs": [],
   "source": [
    "def b3hash64(seq,rounds=64):\n",
    "    out_array = np.ndarray(rounds,dtype=np.bool8)\n",
    "    last = True\n",
    "    for round in range(rounds):\n",
    "        dim_sum = 0\n",
    "        sim_sum = 0\n",
    "        for i in range(1,len(seq)):\n",
    "            h1 = okhash63(seq[i-1],mod=round,mod2=0)\n",
    "            h2 = okhash63(seq[i],round,mod2=1)\n",
    "            sim = gbytes.similarity(h1,h2)\n",
    "            dim_sum += 2\n",
    "            if sim > len(h1)*4:\n",
    "                sim_sum += 1\n",
    "            else:\n",
    "                sim_sum -= 1\n",
    "            if h1.bit_count() > len(h1)*4:\n",
    "                sim_sum += 1\n",
    "            else:\n",
    "                sim_sum -= 1\n",
    "        h1 = okhash63(seq[-1],mod=round,mod2=0)\n",
    "        dim_sum +=1\n",
    "        if h1.bit_count() > len(h1)*4:\n",
    "            sim_sum += 1\n",
    "        else:\n",
    "            sim_sum -= 1\n",
    "        if sim_sum > 0:\n",
    "            out_array[round] = True\n",
    "            last = True\n",
    "        elif sim_sum < 0:\n",
    "            out_array[round] = False\n",
    "            last = False\n",
    "        else:\n",
    "            last = (not last)\n",
    "            out_array[round] = last # deterministic tie-breaker\n",
    "    out_array = np.packbits(out_array)\n",
    "    out_array = gbytes(out_array)\n",
    "    return(out_array)\n"
   ]
  },
  {
   "cell_type": "code",
   "execution_count": 286,
   "metadata": {},
   "outputs": [],
   "source": [
    "cats = b3hash64('cat')\n",
    "caats = b3hash64('caats')\n",
    "caaaats = b3hash64('caaaats')\n",
    "catscats = b3hash64('catscats')\n",
    "bcatscats = b3hash64('bcatscats')\n",
    "caattaats = b3hash64('caattaats')\n"
   ]
  },
  {
   "cell_type": "code",
   "execution_count": 287,
   "metadata": {},
   "outputs": [],
   "source": [
    "elephant = b3hash64('elephant')\n",
    "eleephant = b3hash64('eleephant')"
   ]
  },
  {
   "cell_type": "code",
   "execution_count": 288,
   "metadata": {},
   "outputs": [],
   "source": [
    "alice = b3hash64('Alice was beginning to get very tired of sitting by her sister on the bank, and of having nothing to do')\n",
    "april = b3hash64('April was finally tired of sitting by her brother by the tree, and of having nothing to do')\n",
    "long_sentence = b3hash64('This is an extremely long sentence which should result in similarity for some reason ok bye')\n",
    "longsentence = b3hash64('Thisisanextremelylongsentencewhichshouldresultinsimilarityforsomereasonokbyesomemorewordshere')\n",
    "\n",
    "shadowsfollow = b3hash64('shadowsfollow')"
   ]
  },
  {
   "cell_type": "code",
   "execution_count": 289,
   "metadata": {},
   "outputs": [],
   "source": [
    "garbage = b3hash64('qwertysjdfniabuioopkjhgfdfvbsdljfnjkasdnxcvbkxjcvdfkjnndmmbyasdkjfbkhbsdfkzxcvibekxcbvkasdljfnkjksbdf')\n"
   ]
  },
  {
   "cell_type": "code",
   "execution_count": 290,
   "metadata": {},
   "outputs": [],
   "source": [
    "garbage2 = b3hash64(str([random.randint(87,122) for _ in range(5)]))"
   ]
  },
  {
   "cell_type": "code",
   "execution_count": 291,
   "metadata": {},
   "outputs": [
    {
     "data": {
      "text/plain": [
       "0.90625"
      ]
     },
     "execution_count": 291,
     "metadata": {},
     "output_type": "execute_result"
    }
   ],
   "source": [
    "gbytes.similarity(alice,april) / 64"
   ]
  },
  {
   "cell_type": "code",
   "execution_count": 292,
   "metadata": {},
   "outputs": [
    {
     "data": {
      "text/plain": [
       "0.546875"
      ]
     },
     "execution_count": 292,
     "metadata": {},
     "output_type": "execute_result"
    }
   ],
   "source": [
    "gbytes.similarity(april,garbage2) / 64"
   ]
  },
  {
   "cell_type": "code",
   "execution_count": 294,
   "metadata": {},
   "outputs": [
    {
     "data": {
      "text/plain": [
       "0.6875"
      ]
     },
     "execution_count": 294,
     "metadata": {},
     "output_type": "execute_result"
    }
   ],
   "source": [
    "gbytes.similarity(long_sentence,april) / 64"
   ]
  },
  {
   "cell_type": "code",
   "execution_count": 295,
   "metadata": {},
   "outputs": [
    {
     "data": {
      "text/plain": [
       "0.5625"
      ]
     },
     "execution_count": 295,
     "metadata": {},
     "output_type": "execute_result"
    }
   ],
   "source": [
    "gbytes.similarity(longsentence,april) / 64"
   ]
  },
  {
   "cell_type": "code",
   "execution_count": 296,
   "metadata": {},
   "outputs": [
    {
     "data": {
      "text/plain": [
       "0.78125"
      ]
     },
     "execution_count": 296,
     "metadata": {},
     "output_type": "execute_result"
    }
   ],
   "source": [
    "gbytes.similarity(longsentence,long_sentence) / 64"
   ]
  },
  {
   "cell_type": "code",
   "execution_count": 298,
   "metadata": {},
   "outputs": [
    {
     "data": {
      "text/plain": [
       "0.4375"
      ]
     },
     "execution_count": 298,
     "metadata": {},
     "output_type": "execute_result"
    }
   ],
   "source": [
    "gbytes.similarity(garbage,longsentence) / 64"
   ]
  },
  {
   "cell_type": "code",
   "execution_count": 299,
   "metadata": {},
   "outputs": [
    {
     "data": {
      "text/plain": [
       "0.640625"
      ]
     },
     "execution_count": 299,
     "metadata": {},
     "output_type": "execute_result"
    }
   ],
   "source": [
    "gbytes.similarity(caattaats,shadowsfollow) / 64"
   ]
  },
  {
   "cell_type": "code",
   "execution_count": 300,
   "metadata": {},
   "outputs": [
    {
     "data": {
      "text/plain": [
       "0.546875"
      ]
     },
     "execution_count": 300,
     "metadata": {},
     "output_type": "execute_result"
    }
   ],
   "source": [
    "gbytes.similarity(garbage2,april) / 64"
   ]
  },
  {
   "cell_type": "code",
   "execution_count": null,
   "metadata": {},
   "outputs": [],
   "source": []
  }
 ],
 "metadata": {
  "kernelspec": {
   "display_name": "Python 3",
   "language": "python",
   "name": "python3"
  },
  "language_info": {
   "codemirror_mode": {
    "name": "ipython",
    "version": 3
   },
   "file_extension": ".py",
   "mimetype": "text/x-python",
   "name": "python",
   "nbconvert_exporter": "python",
   "pygments_lexer": "ipython3",
   "version": "3.9.2"
  },
  "orig_nbformat": 4,
  "vscode": {
   "interpreter": {
    "hash": "75826d0e9c1dcf44b53c1d5fae65e2ac865fe2d5c7414d417cbea9d539b26360"
   }
  }
 },
 "nbformat": 4,
 "nbformat_minor": 2
}
