{
 "cells": [
  {
   "cell_type": "code",
   "execution_count": null,
   "metadata": {},
   "outputs": [],
   "source": [
    "import numpy as np\n",
    "import random \n",
    "## b3hash"
   ]
  },
  {
   "cell_type": "code",
   "execution_count": null,
   "metadata": {},
   "outputs": [],
   "source": [
    "def okbithash(val,mod=0,mod2=0,mod3=0):\n",
    "    mod = f'|{mod}|{mod2}|{mod3}|'\n",
    "    s = val + mod\n",
    "    h = hash(s)\n",
    "    return(h%2)"
   ]
  },
  {
   "cell_type": "code",
   "execution_count": null,
   "metadata": {},
   "outputs": [],
   "source": [
    "byte_count = np.array([0, 1, 1, 2, 1, 2, 2, 3, 1, 2, 2, 3, 2, 3, 3, 4, 1, 2, 2, 3, 2, 3, 3, 4, 2, 3, 3, 4, 3, 4, 4, 5, 1, 2, 2, 3, 2, 3, 3, 4, 2, 3, 3, 4, 3, 4, 4, 5, 2, 3, 3, 4, 3, 4, 4, 5, 3, 4, 4, 5, 4, 5, 5, 6, 1, 2, 2, 3, 2, 3, 3, 4, 2, 3, 3, 4, 3, 4, 4, 5, 2, 3, 3, 4, 3, 4, 4, 5, 3, 4, 4, 5, 4, 5, 5, 6, 2, 3, 3, 4, 3, 4, 4, 5, 3, 4, 4, 5, 4, 5, 5, 6, 3, 4, 4, 5, 4, 5, 5, 6, 4, 5, 5, 6, 5, 6, 6, 7, 1, 2, 2, 3, 2, 3, 3, 4, 2, 3, 3, 4, 3, 4, 4, 5, 2, 3, 3, 4, 3, 4, 4, 5, 3, 4, 4, 5, 4, 5, 5, 6, 2, 3, 3, 4, 3, 4, 4, 5, 3, 4, 4, 5, 4, 5, 5, 6, 3, 4, 4, 5, 4, 5, 5, 6, 4, 5, 5, 6, 5, 6, 6, 7, 2, 3, 3, 4, 3, 4, 4, 5, 3, 4, 4, 5, 4, 5, 5, 6, 3, 4, 4, 5, 4, 5, 5, 6, 4, 5, 5, 6, 5, 6, 6, 7, 3, 4, 4, 5, 4, 5, 5, 6, 4, 5, 5, 6, 5, 6, 6, 7, 4, 5, 5, 6, 5, 6, 6, 7, 5, 6, 6, 7, 6, 7, 7, 8],dtype=np.uint8)\n",
    "\n",
    "bitmasks = list(range(10))\n",
    "bitmasks[0] = 0b00000001\n",
    "bitmasks[1] = 0b00000010\n",
    "bitmasks[2] = 0b00000100\n",
    "bitmasks[3] = 0b00001000\n",
    "bitmasks[4] = 0b00010000\n",
    "bitmasks[5] = 0b00100000\n",
    "bitmasks[6] = 0b01000000\n",
    "bitmasks[7] = 0b10000000\n",
    "\n",
    "class gbits:\n",
    "\n",
    "    def __init__(self,gb):\n",
    "        self.gb = gb\n",
    "        self.num_bits = int(len(gb)*8)\n",
    "\n",
    "    def __next__(self):\n",
    "        if self.iter_idx >= self.num_bits:\n",
    "            raise StopIteration()\n",
    "        out = self.gb._getbit(self.iter_idx)\n",
    "        self.iter_idx += 1\n",
    "        return(out)\n",
    "\n",
    "    def __getitem__(self,bit_idx):\n",
    "        out = self.gb._getbit(bit_idx)\n",
    "        return(out)\n",
    "\n",
    "    def __iter__(self):\n",
    "        self.iter_idx = 0\n",
    "        return(self)\n",
    "    \n",
    "    def __len__(self):\n",
    "        return(self.num_bits)\n",
    "\n",
    "    def __repr__(self):\n",
    "        s = f'<gbits>'\n",
    "        return(s)\n",
    "\n",
    "\n",
    "class gbytes(np.ndarray):\n",
    "    def __new__(cls,b):\n",
    "        buf = np.frombuffer(b,dtype=np.uint8)\n",
    "        qa = np.ndarray.__new__(cls,len(b),dtype=np.uint8)\n",
    "        qa[:] = buf\n",
    "        return(qa)\n",
    "    \n",
    "    def __repr__(self):\n",
    "        s = 'g\\''\n",
    "        for b in self:\n",
    "            s += '\\\\x{:02x}'.format(b)\n",
    "        s += '\\''\n",
    "        return(s)\n",
    "\n",
    "    def _getbit(self,bit_idx):\n",
    "        byte_idx = bit_idx // 8\n",
    "        bit_idx = bit_idx % 8\n",
    "        byte = self[byte_idx]\n",
    "        bit = byte & bitmasks[bit_idx]\n",
    "        bit = np.bool8(bit)\n",
    "        return(bit)\n",
    "\n",
    "\n",
    "    @property\n",
    "    def bits(self):\n",
    "        return(gbits(self))\n",
    "\n",
    "    def bit_count(self):\n",
    "        count = 0\n",
    "        for b in self:\n",
    "            count += byte_count[b]\n",
    "        return(count)\n",
    "\n",
    "    @staticmethod\n",
    "    def similarity(gb1, gb2):\n",
    "        sim_bin = gbytes(np.bitwise_not( np.bitwise_xor( gb1,gb2 ) ))\n",
    "        sim = sim_bin.bit_count()\n",
    "        sim = int(sim)\n",
    "        return(sim)\n",
    "\n",
    "        "
   ]
  },
  {
   "cell_type": "code",
   "execution_count": null,
   "metadata": {},
   "outputs": [],
   "source": [
    "def b3hash(seq,rounds=256):\n",
    "    ''' a much bettter version '''\n",
    "    out_array = np.ndarray(rounds,dtype=np.bool8)\n",
    "    seq = [\"<START>\"] + list(seq) + [\"<END>\"]\n",
    "    last = True\n",
    "    bigram_count = dict()\n",
    "    for round in range(rounds):\n",
    "        sim_sum = 0\n",
    "        for i in range(1,len(seq)):\n",
    "            bigram = (seq[i-1],seq[i])\n",
    "            bigram_count.setdefault(bigram,0)\n",
    "            count = bigram_count[bigram]\n",
    "            h1 = okbithash(seq[i-1],round,mod2=0,mod3=count)\n",
    "            h2 = okbithash(seq[i],round,mod2=1,mod3=count)\n",
    "            bigram_count[bigram] += 1\n",
    "            x12 = h1 ^ h2\n",
    "            if x12:\n",
    "                sim_sum += 1\n",
    "            else:\n",
    "                sim_sum -= 1\n",
    "        if sim_sum > 0:\n",
    "            out_array[round] = True\n",
    "            last = True\n",
    "        elif sim_sum < 0:\n",
    "            out_array[round] = False\n",
    "            last = False\n",
    "        else:\n",
    "            last = (not last)\n",
    "            out_array[round] = last # deterministic tie-breaker\n",
    "    out_array = np.packbits(out_array)\n",
    "    out_array = gbytes(out_array)\n",
    "    return(out_array)\n"
   ]
  },
  {
   "cell_type": "code",
   "execution_count": 579,
   "metadata": {},
   "outputs": [
    {
     "data": {
      "text/plain": [
       "False"
      ]
     },
     "execution_count": 579,
     "metadata": {},
     "output_type": "execute_result"
    }
   ],
   "source": [
    "not_one_one(np.bool8(1),np.bool8(1))"
   ]
  },
  {
   "cell_type": "code",
   "execution_count": 651,
   "metadata": {},
   "outputs": [],
   "source": [
    "def one_one(bit1,bit2): return(bit1 & bit2) #\n",
    "def one_zero(bit1,bit2): return(bit1 & (bit1 ^ bit2))\n",
    "def zero_one(bit1,bit2): return(bit2 & (bit1 ^ bit2)) \n",
    "def zero_zero(bit1,bit2): return( ~(bit1 | bit2)) \n",
    "def not_one_one(bit1,bit2): return(~(bit1 & bit2)) \n",
    "def not_one_zero(bit1,bit2): return(~(bit1 & (bit1 ^ bit2))) #\n",
    "def not_zero_one(bit1,bit2): return(~(bit2 & (bit1 ^ bit2)))#\n",
    "def not_zero_zero(bit1,bit2): return( (bit1 | bit2)) #\n",
    "bit_funcs = np.array([one_one, one_zero, zero_one, zero_zero, not_one_one, not_one_zero, not_zero_one, not_zero_zero])\n",
    "\n",
    "rstate = random.getstate()\n",
    "random.seed(31337)\n",
    "bitwheel_size = 256\n",
    "bitwheel1 = np.array([random.randint(0,0xff) for _ in range(bitwheel_size)],dtype=np.uint8)\n",
    "bitwheel2 = np.array([random.randint(0,0xff) for _ in range(bitwheel_size)],dtype=np.uint8)\n",
    "bitwheel3 = np.array([random.randint(0,0xff) for _ in range(bitwheel_size)],dtype=np.uint8)\n",
    "bitwheel3.dtype = np.bool8\n",
    "random.setstate(rstate)\n",
    "\n",
    "def itty_bibithash(bit1, bit2, mod1=0, mod2=0, mod3=0):\n",
    "    bit1 = np.bool8(bit1)\n",
    "    bit2 = np.bool8(bit2)\n",
    "    idx = 0xff\n",
    "    idx = idx ^ bitwheel1[mod1%len(bitwheel1)]\n",
    "    idx = idx ^ bitwheel2[mod2%len(bitwheel2)]\n",
    "    idx = idx ^ bitwheel3[mod3%len(bitwheel3)]\n",
    "    idx = idx%len(bit_funcs)\n",
    "    func = bit_funcs[idx]\n",
    "    out = func(bit1,bit2)\n",
    "    return(out)\n"
   ]
  },
  {
   "cell_type": "code",
   "execution_count": 652,
   "metadata": {},
   "outputs": [
    {
     "data": {
      "text/plain": [
       "1"
      ]
     },
     "execution_count": 652,
     "metadata": {},
     "output_type": "execute_result"
    }
   ],
   "source": [
    "zz = np.array([0,1])\n",
    "zz[np.uint8(np.bool8(2))]"
   ]
  },
  {
   "cell_type": "code",
   "execution_count": 838,
   "metadata": {},
   "outputs": [],
   "source": [
    "def itty_b3hash(b,rounds=64):\n",
    "    bits = gbytes(b).bits\n",
    "    bigram_count = np.array([0,0,0,0])\n",
    "    out_array = np.ndarray(rounds,dtype=np.bool8)\n",
    "    last = True\n",
    "    for round in range(rounds):\n",
    "        sim_sum = 0\n",
    "        for i in range(1,len(bits)):\n",
    "            b1 = bits[i-1]\n",
    "            b2 = bits[i]\n",
    "            bigram_ref = (b2<<1)+b1\n",
    "            count = bigram_count[bigram_ref]\n",
    "            #h12 = itty_bibithash(b1,b2,mod1=round,mod2=0)\n",
    "            #if h12:\n",
    "            #    sim_sum += .12\n",
    "            #else:\n",
    "            #    sim_sum -= .12\n",
    "            h12 = itty_bibithash(b1,b2,mod1=round,mod2=count)\n",
    "            bigram_count[bigram_ref] += 1\n",
    "            if h12:\n",
    "                sim_sum += 1\n",
    "            else:\n",
    "                sim_sum -= 1\n",
    "        if sim_sum > 0:\n",
    "            out_array[round] = True\n",
    "            last = True\n",
    "        elif sim_sum < 0:\n",
    "            out_array[round] = False\n",
    "            last = False\n",
    "        else:\n",
    "            last = (not last)\n",
    "            out_array[round] = last # deterministic tie-breaker\n",
    "    out_array = np.packbits(out_array)\n",
    "    out_array = gbytes(out_array)\n",
    "    return(out_array)"
   ]
  },
  {
   "cell_type": "code",
   "execution_count": 841,
   "metadata": {},
   "outputs": [],
   "source": [
    "zz = itty_b3hash(b'\\xff\\xff\\xff\\xff\\xff\\xff')\n",
    "zzz = itty_b3hash(b'\\xff\\xff\\xff\\xff\\xff\\xff')\n"
   ]
  },
  {
   "cell_type": "code",
   "execution_count": null,
   "metadata": {},
   "outputs": [],
   "source": []
  },
  {
   "cell_type": "code",
   "execution_count": 842,
   "metadata": {},
   "outputs": [
    {
     "data": {
      "text/plain": [
       "1.0"
      ]
     },
     "execution_count": 842,
     "metadata": {},
     "output_type": "execute_result"
    }
   ],
   "source": [
    "gbytes.similarity(zz,zzz)/64"
   ]
  },
  {
   "cell_type": "code",
   "execution_count": 269,
   "metadata": {},
   "outputs": [],
   "source": [
    "cats = b3hash('cat')\n",
    "caats = b3hash('caats')\n",
    "caaaats = b3hash('caaaats')\n",
    "catscats = b3hash('catscats')\n",
    "bcatscats = b3hash('bcatscats')\n",
    "caattaats = b3hash('caattaats')\n"
   ]
  },
  {
   "cell_type": "code",
   "execution_count": 270,
   "metadata": {},
   "outputs": [],
   "source": [
    "elephant = b3hash('elephant')\n",
    "eleephant = b3hash('eleephant')"
   ]
  },
  {
   "cell_type": "code",
   "execution_count": 271,
   "metadata": {},
   "outputs": [],
   "source": [
    "alice = b3hash('Alice was beginning to get very tired of sitting by her sister on the bank, and of having nothing to do')\n",
    "april = b3hash('April was beginning to get very tired of sitting by her sister on the bank, and of having nothing to do')\n",
    "april2 = b3hash('April was finally tired of sitting by her brother by the tree, and of having nothing to do')\n",
    "ana = b3hash('of sitting by her nothing to do the bank, and of having Ana was beginning sister on to get very tired ')\n",
    "#ana = b3hash('Ana was beginning to get very tired of sitting by her sister on the bank, and of having nothing to do')\n",
    "\n",
    "\n",
    "long_sentence = b3hash('This is an extremely long sentence which should result in similarity for some reason ok bye')\n",
    "longsentence = b3hash('Thisisanextremelylongsentencewhichshouldresultinsimilarityforsomereasonokbyesomemorewordshere')\n",
    "\n",
    "shadowsfollow = b3hash('shadowsfollow')"
   ]
  },
  {
   "cell_type": "code",
   "execution_count": 272,
   "metadata": {},
   "outputs": [],
   "source": [
    "garbage = b3hash('qwertysjdfniabuioopkjhgfdfvbsdljfnjkasdnxcvbkxjcvdfkjnndmmbyasdkjfbkhbsdfkzxcvibekxcbvkasdljfnkjksbdf')\n"
   ]
  },
  {
   "cell_type": "code",
   "execution_count": 273,
   "metadata": {},
   "outputs": [],
   "source": [
    "pow = b3hash('aaaaab')\n",
    "wow = b3hash('aaaaac')"
   ]
  },
  {
   "cell_type": "code",
   "execution_count": 274,
   "metadata": {},
   "outputs": [],
   "source": [
    "garbage2 = b3hash(str([random.randint(87,122) for _ in range(5)]))"
   ]
  },
  {
   "cell_type": "code",
   "execution_count": 275,
   "metadata": {},
   "outputs": [
    {
     "data": {
      "text/plain": [
       "0.77734375"
      ]
     },
     "execution_count": 275,
     "metadata": {},
     "output_type": "execute_result"
    }
   ],
   "source": [
    "gbytes.similarity(pow,wow) / 256"
   ]
  },
  {
   "cell_type": "code",
   "execution_count": 276,
   "metadata": {},
   "outputs": [
    {
     "data": {
      "text/plain": [
       "0.8984375"
      ]
     },
     "execution_count": 276,
     "metadata": {},
     "output_type": "execute_result"
    }
   ],
   "source": [
    "gbytes.similarity(alice,april) / 256"
   ]
  },
  {
   "cell_type": "code",
   "execution_count": 277,
   "metadata": {},
   "outputs": [
    {
     "data": {
      "text/plain": [
       "0.6484375"
      ]
     },
     "execution_count": 277,
     "metadata": {},
     "output_type": "execute_result"
    }
   ],
   "source": [
    "gbytes.similarity(alice,april2) / 256"
   ]
  },
  {
   "cell_type": "code",
   "execution_count": 278,
   "metadata": {},
   "outputs": [
    {
     "data": {
      "text/plain": [
       "0.87109375"
      ]
     },
     "execution_count": 278,
     "metadata": {},
     "output_type": "execute_result"
    }
   ],
   "source": [
    "gbytes.similarity(alice,ana) / 256"
   ]
  },
  {
   "cell_type": "code",
   "execution_count": 279,
   "metadata": {},
   "outputs": [
    {
     "data": {
      "text/plain": [
       "0.53515625"
      ]
     },
     "execution_count": 279,
     "metadata": {},
     "output_type": "execute_result"
    }
   ],
   "source": [
    "gbytes.similarity(april,garbage2) / 256"
   ]
  },
  {
   "cell_type": "code",
   "execution_count": 280,
   "metadata": {},
   "outputs": [
    {
     "data": {
      "text/plain": [
       "0.5859375"
      ]
     },
     "execution_count": 280,
     "metadata": {},
     "output_type": "execute_result"
    }
   ],
   "source": [
    "gbytes.similarity(long_sentence,april) / 256"
   ]
  },
  {
   "cell_type": "code",
   "execution_count": 281,
   "metadata": {},
   "outputs": [
    {
     "data": {
      "text/plain": [
       "0.6015625"
      ]
     },
     "execution_count": 281,
     "metadata": {},
     "output_type": "execute_result"
    }
   ],
   "source": [
    "gbytes.similarity(long_sentence,alice) / 256"
   ]
  },
  {
   "cell_type": "code",
   "execution_count": 282,
   "metadata": {},
   "outputs": [
    {
     "data": {
      "text/plain": [
       "0.53125"
      ]
     },
     "execution_count": 282,
     "metadata": {},
     "output_type": "execute_result"
    }
   ],
   "source": [
    "gbytes.similarity(garbage,april) / 256"
   ]
  },
  {
   "cell_type": "code",
   "execution_count": 283,
   "metadata": {},
   "outputs": [
    {
     "data": {
      "text/plain": [
       "0.68359375"
      ]
     },
     "execution_count": 283,
     "metadata": {},
     "output_type": "execute_result"
    }
   ],
   "source": [
    "gbytes.similarity(longsentence,long_sentence) / 256"
   ]
  },
  {
   "cell_type": "code",
   "execution_count": 284,
   "metadata": {},
   "outputs": [
    {
     "data": {
      "text/plain": [
       "0.48046875"
      ]
     },
     "execution_count": 284,
     "metadata": {},
     "output_type": "execute_result"
    }
   ],
   "source": [
    "gbytes.similarity(garbage,longsentence) / 256"
   ]
  },
  {
   "cell_type": "code",
   "execution_count": 285,
   "metadata": {},
   "outputs": [
    {
     "data": {
      "text/plain": [
       "0.515625"
      ]
     },
     "execution_count": 285,
     "metadata": {},
     "output_type": "execute_result"
    }
   ],
   "source": [
    "gbytes.similarity(caattaats,shadowsfollow) / 256"
   ]
  },
  {
   "cell_type": "code",
   "execution_count": 286,
   "metadata": {},
   "outputs": [
    {
     "data": {
      "text/plain": [
       "0.53515625"
      ]
     },
     "execution_count": 286,
     "metadata": {},
     "output_type": "execute_result"
    }
   ],
   "source": [
    "gbytes.similarity(garbage2,april) / 256"
   ]
  },
  {
   "cell_type": "code",
   "execution_count": 287,
   "metadata": {},
   "outputs": [
    {
     "data": {
      "text/plain": [
       "g'\\xda\\x8b\\x71\\xda\\x96\\xb3\\xe9\\x4d\\x81\\x9c\\x87\\x1b\\x45\\xb6\\xae\\x67\\x19\\xf0\\x51\\x8d\\x0a\\x56\\x5d\\x1f\\x88\\x27\\xf9\\x87\\x17\\x9d\\x91\\xe0'"
      ]
     },
     "execution_count": 287,
     "metadata": {},
     "output_type": "execute_result"
    }
   ],
   "source": [
    "garbage2"
   ]
  },
  {
   "cell_type": "code",
   "execution_count": null,
   "metadata": {},
   "outputs": [],
   "source": []
  }
 ],
 "metadata": {
  "kernelspec": {
   "display_name": "Python 3",
   "language": "python",
   "name": "python3"
  },
  "language_info": {
   "codemirror_mode": {
    "name": "ipython",
    "version": 3
   },
   "file_extension": ".py",
   "mimetype": "text/x-python",
   "name": "python",
   "nbconvert_exporter": "python",
   "pygments_lexer": "ipython3",
   "version": "3.9.2"
  },
  "orig_nbformat": 4,
  "vscode": {
   "interpreter": {
    "hash": "75826d0e9c1dcf44b53c1d5fae65e2ac865fe2d5c7414d417cbea9d539b26360"
   }
  }
 },
 "nbformat": 4,
 "nbformat_minor": 2
}
