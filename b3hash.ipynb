{
 "cells": [
  {
   "cell_type": "code",
   "execution_count": 1,
   "metadata": {},
   "outputs": [],
   "source": [
    "import numpy as np\n",
    "import random \n",
    "## b3hash"
   ]
  },
  {
   "cell_type": "code",
   "execution_count": 2,
   "metadata": {},
   "outputs": [],
   "source": [
    "def okbithash(val,mod=0,mod2=0):\n",
    "    mod = f'mod:{mod*mod},{mod2*mod2}'\n",
    "    s = val + mod\n",
    "    h = hash(s)\n",
    "    return(h%2)"
   ]
  },
  {
   "cell_type": "code",
   "execution_count": 3,
   "metadata": {},
   "outputs": [],
   "source": [
    "byte_count = np.array([0, 1, 1, 2, 1, 2, 2, 3, 1, 2, 2, 3, 2, 3, 3, 4, 1, 2, 2, 3, 2, 3, 3, 4, 2, 3, 3, 4, 3, 4, 4, 5, 1, 2, 2, 3, 2, 3, 3, 4, 2, 3, 3, 4, 3, 4, 4, 5, 2, 3, 3, 4, 3, 4, 4, 5, 3, 4, 4, 5, 4, 5, 5, 6, 1, 2, 2, 3, 2, 3, 3, 4, 2, 3, 3, 4, 3, 4, 4, 5, 2, 3, 3, 4, 3, 4, 4, 5, 3, 4, 4, 5, 4, 5, 5, 6, 2, 3, 3, 4, 3, 4, 4, 5, 3, 4, 4, 5, 4, 5, 5, 6, 3, 4, 4, 5, 4, 5, 5, 6, 4, 5, 5, 6, 5, 6, 6, 7, 1, 2, 2, 3, 2, 3, 3, 4, 2, 3, 3, 4, 3, 4, 4, 5, 2, 3, 3, 4, 3, 4, 4, 5, 3, 4, 4, 5, 4, 5, 5, 6, 2, 3, 3, 4, 3, 4, 4, 5, 3, 4, 4, 5, 4, 5, 5, 6, 3, 4, 4, 5, 4, 5, 5, 6, 4, 5, 5, 6, 5, 6, 6, 7, 2, 3, 3, 4, 3, 4, 4, 5, 3, 4, 4, 5, 4, 5, 5, 6, 3, 4, 4, 5, 4, 5, 5, 6, 4, 5, 5, 6, 5, 6, 6, 7, 3, 4, 4, 5, 4, 5, 5, 6, 4, 5, 5, 6, 5, 6, 6, 7, 4, 5, 5, 6, 5, 6, 6, 7, 5, 6, 6, 7, 6, 7, 7, 8],dtype=np.uint8)\n",
    "\n",
    "class gbytes(np.ndarray):\n",
    "    def __new__(cls,b):\n",
    "        buf = np.frombuffer(b,dtype=np.uint8)\n",
    "        qa = np.ndarray.__new__(cls,len(b),dtype=np.uint8)\n",
    "        qa[:] = buf\n",
    "        return(qa)\n",
    "    \n",
    "    def __repr__(self):\n",
    "        s = 'g\\''\n",
    "        for b in self:\n",
    "            s += '\\\\x{:02x}'.format(b)\n",
    "        s += '\\''\n",
    "        return(s)\n",
    "\n",
    "    def bit_count(self):\n",
    "        count = 0\n",
    "        for b in self:\n",
    "            count += byte_count[b]\n",
    "        return(count)\n",
    "\n",
    "    @staticmethod\n",
    "    def similarity(gb1, gb2):\n",
    "        sim_bin = gbytes(np.bitwise_not( np.bitwise_xor( gb1,gb2 ) ))\n",
    "        sim = sim_bin.bit_count()\n",
    "        sim = int(sim)\n",
    "        return(sim)\n",
    "\n",
    "        "
   ]
  },
  {
   "cell_type": "code",
   "execution_count": 4,
   "metadata": {},
   "outputs": [],
   "source": [
    "def b3hash(seq,rounds=256):\n",
    "    out_array = np.ndarray(rounds,dtype=np.bool8)\n",
    "    seq = [\"<START>\"] + list(seq) + [\"<END>\"]\n",
    "    last = True\n",
    "    for round in range(rounds):\n",
    "        sim_sum = 0\n",
    "        for i in range(1,len(seq)):\n",
    "            h1 = okbithash(seq[i-1],round,mod2=0)\n",
    "            h2 = okbithash(seq[i],round,mod2=1)\n",
    "            x12 = h1 ^ h2\n",
    "            if x12:\n",
    "                sim_sum += 1\n",
    "            else:\n",
    "                sim_sum -= 1\n",
    "        if sim_sum > 0:\n",
    "            out_array[round] = True\n",
    "            last = True\n",
    "        elif sim_sum < 0:\n",
    "            out_array[round] = False\n",
    "            last = False\n",
    "        else:\n",
    "            last = (not last)\n",
    "            out_array[round] = last # deterministic tie-breaker\n",
    "    out_array = np.packbits(out_array)\n",
    "    out_array = gbytes(out_array)\n",
    "    return(out_array)\n"
   ]
  },
  {
   "cell_type": "code",
   "execution_count": 6,
   "metadata": {},
   "outputs": [],
   "source": [
    "cats = b3hash('cat')\n",
    "caats = b3hash('caats')\n",
    "caaaats = b3hash('caaaats')\n",
    "catscats = b3hash('catscats')\n",
    "bcatscats = b3hash('bcatscats')\n",
    "caattaats = b3hash('caattaats')\n"
   ]
  },
  {
   "cell_type": "code",
   "execution_count": 7,
   "metadata": {},
   "outputs": [],
   "source": [
    "elephant = b3hash('elephant')\n",
    "eleephant = b3hash('eleephant')"
   ]
  },
  {
   "cell_type": "code",
   "execution_count": 8,
   "metadata": {},
   "outputs": [],
   "source": [
    "alice = b3hash('Alice was beginning to get very tired of sitting by her sister on the bank, and of having nothing to do')\n",
    "april = b3hash('April was finally tired of sitting by her brother by the tree, and of having nothing to do')\n",
    "ana = b3hash('of sitting by her nothing to do the bank, and of having Ana was beginning sister on to get very tired ')\n",
    "#ana = b3hash('Ana was beginning to get very tired of sitting by her sister on the bank, and of having nothing to do')\n",
    "\n",
    "\n",
    "long_sentence = b3hash('This is an extremely long sentence which should result in similarity for some reason ok bye')\n",
    "longsentence = b3hash('Thisisanextremelylongsentencewhichshouldresultinsimilarityforsomereasonokbyesomemorewordshere')\n",
    "\n",
    "shadowsfollow = b3hash('shadowsfollow')"
   ]
  },
  {
   "cell_type": "code",
   "execution_count": 9,
   "metadata": {},
   "outputs": [],
   "source": [
    "garbage = b3hash('qwertysjdfniabuioopkjhgfdfvbsdljfnjkasdnxcvbkxjcvdfkjnndmmbyasdkjfbkhbsdfkzxcvibekxcbvkasdljfnkjksbdf')\n"
   ]
  },
  {
   "cell_type": "code",
   "execution_count": 10,
   "metadata": {},
   "outputs": [],
   "source": [
    "garbage2 = b3hash(str([random.randint(87,122) for _ in range(5)]))"
   ]
  },
  {
   "cell_type": "code",
   "execution_count": 11,
   "metadata": {},
   "outputs": [
    {
     "data": {
      "text/plain": [
       "0.8046875"
      ]
     },
     "execution_count": 11,
     "metadata": {},
     "output_type": "execute_result"
    }
   ],
   "source": [
    "gbytes.similarity(alice,april) / 256"
   ]
  },
  {
   "cell_type": "code",
   "execution_count": 12,
   "metadata": {},
   "outputs": [
    {
     "data": {
      "text/plain": [
       "0.9453125"
      ]
     },
     "execution_count": 12,
     "metadata": {},
     "output_type": "execute_result"
    }
   ],
   "source": [
    "gbytes.similarity(alice,ana) / 256"
   ]
  },
  {
   "cell_type": "code",
   "execution_count": 13,
   "metadata": {},
   "outputs": [
    {
     "data": {
      "text/plain": [
       "0.5234375"
      ]
     },
     "execution_count": 13,
     "metadata": {},
     "output_type": "execute_result"
    }
   ],
   "source": [
    "gbytes.similarity(april,garbage2) / 256"
   ]
  },
  {
   "cell_type": "code",
   "execution_count": 14,
   "metadata": {},
   "outputs": [
    {
     "data": {
      "text/plain": [
       "0.62109375"
      ]
     },
     "execution_count": 14,
     "metadata": {},
     "output_type": "execute_result"
    }
   ],
   "source": [
    "gbytes.similarity(long_sentence,april) / 256"
   ]
  },
  {
   "cell_type": "code",
   "execution_count": 15,
   "metadata": {},
   "outputs": [
    {
     "data": {
      "text/plain": [
       "0.66796875"
      ]
     },
     "execution_count": 15,
     "metadata": {},
     "output_type": "execute_result"
    }
   ],
   "source": [
    "gbytes.similarity(long_sentence,alice) / 256"
   ]
  },
  {
   "cell_type": "code",
   "execution_count": 16,
   "metadata": {},
   "outputs": [
    {
     "data": {
      "text/plain": [
       "0.50390625"
      ]
     },
     "execution_count": 16,
     "metadata": {},
     "output_type": "execute_result"
    }
   ],
   "source": [
    "gbytes.similarity(garbage,april) / 256"
   ]
  },
  {
   "cell_type": "code",
   "execution_count": 17,
   "metadata": {},
   "outputs": [
    {
     "data": {
      "text/plain": [
       "0.75"
      ]
     },
     "execution_count": 17,
     "metadata": {},
     "output_type": "execute_result"
    }
   ],
   "source": [
    "gbytes.similarity(longsentence,long_sentence) / 256"
   ]
  },
  {
   "cell_type": "code",
   "execution_count": 18,
   "metadata": {},
   "outputs": [
    {
     "data": {
      "text/plain": [
       "0.4765625"
      ]
     },
     "execution_count": 18,
     "metadata": {},
     "output_type": "execute_result"
    }
   ],
   "source": [
    "gbytes.similarity(garbage,longsentence) / 256"
   ]
  },
  {
   "cell_type": "code",
   "execution_count": 19,
   "metadata": {},
   "outputs": [
    {
     "data": {
      "text/plain": [
       "0.5546875"
      ]
     },
     "execution_count": 19,
     "metadata": {},
     "output_type": "execute_result"
    }
   ],
   "source": [
    "gbytes.similarity(caattaats,shadowsfollow) / 256"
   ]
  },
  {
   "cell_type": "code",
   "execution_count": 20,
   "metadata": {},
   "outputs": [
    {
     "data": {
      "text/plain": [
       "0.5234375"
      ]
     },
     "execution_count": 20,
     "metadata": {},
     "output_type": "execute_result"
    }
   ],
   "source": [
    "gbytes.similarity(garbage2,april) / 256"
   ]
  },
  {
   "cell_type": "code",
   "execution_count": 21,
   "metadata": {},
   "outputs": [
    {
     "data": {
      "text/plain": [
       "g'\\x3a\\x7a\\x55\\x31\\xb2\\x27\\xbe\\xa3\\xf9\\x95\\x36\\x94\\x37\\xb5\\xd2\\x8c\\x25\\xef\\x45\\x00\\x8b\\xd0\\x6a\\xb1\\x48\\x30\\xca\\x15\\x2d\\x18\\x2b\\xe2'"
      ]
     },
     "execution_count": 21,
     "metadata": {},
     "output_type": "execute_result"
    }
   ],
   "source": [
    "garbage2"
   ]
  },
  {
   "cell_type": "code",
   "execution_count": null,
   "metadata": {},
   "outputs": [],
   "source": []
  }
 ],
 "metadata": {
  "kernelspec": {
   "display_name": "Python 3",
   "language": "python",
   "name": "python3"
  },
  "language_info": {
   "codemirror_mode": {
    "name": "ipython",
    "version": 3
   },
   "file_extension": ".py",
   "mimetype": "text/x-python",
   "name": "python",
   "nbconvert_exporter": "python",
   "pygments_lexer": "ipython3",
   "version": "3.9.2"
  },
  "orig_nbformat": 4,
  "vscode": {
   "interpreter": {
    "hash": "75826d0e9c1dcf44b53c1d5fae65e2ac865fe2d5c7414d417cbea9d539b26360"
   }
  }
 },
 "nbformat": 4,
 "nbformat_minor": 2
}
